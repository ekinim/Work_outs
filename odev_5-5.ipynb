{
 "cells": [
  {
   "cell_type": "markdown",
   "metadata": {},
   "source": [
    "1İNCİ SORU:"
   ]
  },
  {
   "cell_type": "raw",
   "metadata": {},
   "source": [
    "SELECT\n",
    "\tcustomerName,\n",
    "\tMAX(creditLimit)\n",
    "\n",
    "FROM customers"
   ]
  },
  {
   "cell_type": "raw",
   "metadata": {},
   "source": [
    "customerName,      MAX(creditLimit)\n",
    "Atelier graphique, 227600.00\n"
   ]
  },
  {
   "cell_type": "markdown",
   "metadata": {},
   "source": [
    "2NCİ SORU:"
   ]
  },
  {
   "cell_type": "raw",
   "metadata": {},
   "source": [
    "SELECT\n",
    "\tcountry as Ulke_Adi,\n",
    "    COUNT(*) as Toplam_Miktar\n",
    "\n",
    "FROM customers\n",
    "\n",
    "GROUP BY country"
   ]
  },
  {
   "cell_type": "raw",
   "metadata": {},
   "source": [
    "08:26:21\t27 row(s) returned\t0.016 sec / 0.000 sec"
   ]
  },
  {
   "cell_type": "raw",
   "metadata": {},
   "source": [
    "Ulke_Adi,    Toplam_Miktar\n",
    "Australia,   5\n",
    "Austria,     2\n",
    "Belgium,     2\n",
    "Canada,      3\n",
    "Denmark,     2\n",
    "Finland,     3\n",
    "France,      12\n",
    "Germany,     13\n",
    "Hong Kong,   1\n",
    "Ireland,     2\n",
    "Israel,      1\n",
    "Italy,       4\n",
    "Japan,       2\n",
    "Netherlands, 1\n",
    "New Zealand, 4\n",
    "Norway,      3\n",
    "Philippines, 1\n",
    "Poland,      1\n",
    "Portugal,    2\n",
    "Russia,      1\n",
    "Singapore,   3\n",
    "South Africa,1\n",
    "Spain,       7\n",
    "Sweden,      2\n",
    "Switzerland, 3\n",
    "UK,          5\n",
    "USA,         36"
   ]
  },
  {
   "cell_type": "raw",
   "metadata": {},
   "source": [
    "3ÜNCÜ SORU:"
   ]
  },
  {
   "cell_type": "raw",
   "metadata": {},
   "source": [
    "SELECT\n",
    "\tcustomerNumber as Musteri_Nu,\n",
    "    COUNT(orderNumber)\n",
    "\n",
    "FROM orders\n",
    "\n",
    "GROUP BY customerNumber"
   ]
  },
  {
   "cell_type": "raw",
   "metadata": {},
   "source": [
    "Musteri_Nu, COUNT(orderNumber)\n",
    "103,        3\n",
    "112,        3"
   ]
  }
 ],
 "metadata": {
  "kernelspec": {
   "display_name": "Python 3",
   "language": "python",
   "name": "python3"
  },
  "language_info": {
   "codemirror_mode": {
    "name": "ipython",
    "version": 3
   },
   "file_extension": ".py",
   "mimetype": "text/x-python",
   "name": "python",
   "nbconvert_exporter": "python",
   "pygments_lexer": "ipython3",
   "version": "3.7.1"
  }
 },
 "nbformat": 4,
 "nbformat_minor": 2
}
