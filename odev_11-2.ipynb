{
 "cells": [
  {
   "cell_type": "markdown",
   "metadata": {},
   "source": [
    "### Soru 1:"
   ]
  },
  {
   "cell_type": "markdown",
   "metadata": {},
   "source": [
    "512 * 512 (1inci katman) + 512 * 512 (2nci katman) + 512 * 512 (3üncü katman) =\n",
    "\n",
    "3 * 512 * 512 = 786482 tane parametre tahmin edilmelidir."
   ]
  },
  {
   "cell_type": "markdown",
   "metadata": {},
   "source": [
    "### Soru 2:"
   ]
  },
  {
   "cell_type": "markdown",
   "metadata": {},
   "source": [
    "Yapılacak işlem çok karmaşık olmadığı için tek gizli katman yeterli olacaktır."
   ]
  },
  {
   "cell_type": "markdown",
   "metadata": {},
   "source": [
    "### Soru 3:"
   ]
  },
  {
   "cell_type": "code",
   "execution_count": 1,
   "metadata": {},
   "outputs": [],
   "source": [
    "import numpy as np\n",
    "#import pandas as  pd"
   ]
  },
  {
   "cell_type": "code",
   "execution_count": 2,
   "metadata": {},
   "outputs": [],
   "source": [
    "initial_values=[4,3]\n",
    "\n",
    "weight_1=[[2, 3], [1, -6]]\n",
    "weight_2=[[1, 3], [2, 3]]\n",
    "weight_3=[[-3, 1],]"
   ]
  },
  {
   "cell_type": "code",
   "execution_count": 3,
   "metadata": {},
   "outputs": [],
   "source": [
    "def relu(weighted):\n",
    "    num=[num if num>=0 else 0 for num in weighted]\n",
    "    return num"
   ]
  },
  {
   "cell_type": "code",
   "execution_count": 4,
   "metadata": {},
   "outputs": [],
   "source": [
    "def dense_layer(values, weight):\n",
    "    result=[]\n",
    "    for k in range(0, len(weight)):\n",
    "        matrix=[]\n",
    "        \n",
    "        for i in range(0, len(values)):\n",
    "            matrix=np.append(matrix, values[i]*weight[k][i])\n",
    "            matrix=relu(matrix)\n",
    "            \n",
    "        result=np.append(result, np.max(matrix))\n",
    "\n",
    "    return(result)"
   ]
  },
  {
   "cell_type": "code",
   "execution_count": 5,
   "metadata": {},
   "outputs": [
    {
     "data": {
      "text/plain": [
       "18.0"
      ]
     },
     "execution_count": 5,
     "metadata": {},
     "output_type": "execute_result"
    }
   ],
   "source": [
    "result= dense_layer(initial_values, weight_1)\n",
    "result= dense_layer(result, weight_2)\n",
    "result= dense_layer(result, weight_3)\n",
    "\n",
    "result[0]"
   ]
  }
 ],
 "metadata": {
  "kernelspec": {
   "display_name": "Python 3",
   "language": "python",
   "name": "python3"
  },
  "language_info": {
   "codemirror_mode": {
    "name": "ipython",
    "version": 3
   },
   "file_extension": ".py",
   "mimetype": "text/x-python",
   "name": "python",
   "nbconvert_exporter": "python",
   "pygments_lexer": "ipython3",
   "version": "3.7.3"
  }
 },
 "nbformat": 4,
 "nbformat_minor": 2
}
