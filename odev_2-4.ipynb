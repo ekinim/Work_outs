{
 "cells": [
  {
   "cell_type": "code",
   "execution_count": 53,
   "metadata": {},
   "outputs": [
    {
     "name": "stdout",
     "output_type": "stream",
     "text": [
      "Dönüştürülecek sıcaklık değerini girin: 40C\n",
      "\n",
      "Dönüştürülen sıcaklık değeri: 104F'dir.\n"
     ]
    }
   ],
   "source": [
    "girilen=input(\"Dönüştürülecek sıcaklık değerini girin: \")\n",
    "liste=[harf for harf in girilen]\n",
    "\n",
    "birim:\"\"\n",
    "derece=\"\"\n",
    "yeni_derece=0\n",
    "x=0\n",
    "\n",
    "birim=liste[len(liste)-1]\n",
    "\n",
    "while x<len(liste)-1:\n",
    "    derece+=liste[x]\n",
    "    x+=1\n",
    "\n",
    "try:\n",
    "    derece=int(derece)\n",
    "    \n",
    "    if birim==\"f\" or birim==\"F\":\n",
    "        yeni_derece=(5/9)*(derece-32)\n",
    "        print(\"\\nDönüştürülen sıcaklık değeri: {:.0f}C'dir.\".format(yeni_derece))\n",
    "        \n",
    "    elif birim==\"c\" or birim==\"C\":\n",
    "        yeni_derece=(9/5)*derece+32\n",
    "        print(\"\\nDönüştürülen sıcaklık değeri: {:.0f}F'dir.\".format(yeni_derece))\n",
    "    \n",
    "    else:\n",
    "        print(\"\\nBu programla sadece Fahrenayt-Celcius dönüşümü yapılabilir.\")\n",
    "    \n",
    "except ValueError:\n",
    "    print(\"\\nLütfen geçerli bir sayı girin. (Örnek: 40C)\")"
   ]
  },
  {
   "cell_type": "code",
   "execution_count": 35,
   "metadata": {},
   "outputs": [
    {
     "name": "stdout",
     "output_type": "stream",
     "text": [
      "Ters çevirilecek kelimeyi girin: otobüs\n",
      "süboto\n"
     ]
    }
   ],
   "source": [
    "girilen=input(\"Ters çevirilecek kelimeyi girin: \")\n",
    "ters=\"\"\n",
    "\n",
    "liste=[harf for harf in girilen]\n",
    "\n",
    "for x in range(len(girilen)):\n",
    "    ters+=liste[len(girilen)-x-1]\n",
    "    \n",
    "print(ters)"
   ]
  },
  {
   "cell_type": "code",
   "execution_count": 30,
   "metadata": {},
   "outputs": [
    {
     "name": "stdout",
     "output_type": "stream",
     "text": [
      "[1, 1, 2, 3, 5, 8, 13, 21, 34, 55, 89, 144, 233, 377, 610, 987, 1597, 2584, 4181, 6765, 10946, 17711, 28657, 46368, 75025, 121393, 196418, 317811, 514229, 832040, 1346269, 2178309, 3524578, 5702887, 9227465, 14930352, 24157817, 39088169, 63245986, 102334155, 165580141, 267914296, 433494437, 701408733, 1134903170, 1836311903, 2971215073, 4807526976, 7778742049, 12586269025]\n"
     ]
    }
   ],
   "source": [
    "fibo=[]\n",
    "\n",
    "for x in range(50):\n",
    "    if x<2:\n",
    "        fibo.append(1)\n",
    "        \n",
    "    else:\n",
    "        fibo.append(fibo[x-2]+fibo[x-1])\n",
    "\n",
    "print(fibo)"
   ]
  },
  {
   "cell_type": "code",
   "execution_count": 32,
   "metadata": {},
   "outputs": [
    {
     "name": "stdout",
     "output_type": "stream",
     "text": [
      "Çarpılacak değeri girin: 6\n",
      "6 x 1 = 6\n",
      "6 x 2 = 12\n",
      "6 x 3 = 18\n",
      "6 x 4 = 24\n",
      "6 x 5 = 30\n",
      "6 x 6 = 36\n",
      "6 x 7 = 42\n",
      "6 x 8 = 48\n",
      "6 x 9 = 54\n",
      "6 x 10 = 60\n"
     ]
    }
   ],
   "source": [
    "tablo=[]\n",
    "\n",
    "deger=input(\"Çarpılacak değeri girin: \")\n",
    "\n",
    "for x in range(1,11):\n",
    "    print(\"{} x {} = {}\".format(deger, x, int(deger)*x))"
   ]
  },
  {
   "cell_type": "code",
   "execution_count": 34,
   "metadata": {},
   "outputs": [
    {
     "name": "stdout",
     "output_type": "stream",
     "text": [
      "[1, 8, 9, 64, 25, 216, 49, 512, 81, 1000, 121, 1728, 169, 2744, 225, 4096, 289, 5832, 361, 8000]\n"
     ]
    }
   ],
   "source": [
    "liste=[]\n",
    "\n",
    "liste=[x**3 if x%2==0 else x**2 for x in range(1,21)]\n",
    "\n",
    "print(liste)"
   ]
  }
 ],
 "metadata": {
  "kernelspec": {
   "display_name": "Python 3",
   "language": "python",
   "name": "python3"
  },
  "language_info": {
   "codemirror_mode": {
    "name": "ipython",
    "version": 3
   },
   "file_extension": ".py",
   "mimetype": "text/x-python",
   "name": "python",
   "nbconvert_exporter": "python",
   "pygments_lexer": "ipython3",
   "version": "3.7.1"
  }
 },
 "nbformat": 4,
 "nbformat_minor": 2
}
