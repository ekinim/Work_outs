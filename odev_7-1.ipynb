{
 "cells": [
  {
   "cell_type": "markdown",
   "metadata": {},
   "source": [
    "##### - Evin büyüklüğü veri alındığında, evin fiyatını tahmin etmek:\n",
    "> Regresyon problemi\n",
    "\n",
    "##### - Eve bakmaya gelenlerin kıyafetlerinden, kimin evi satın alma ihtimalinin yüksek veya düşük olduğu sonucuna varmak:\n",
    "> Sınıflandırma problemi \n",
    "\n",
    "##### - Lokasyon ve tarih gibi parametreleri kullanarak, yağmur yağma ihtimalini hesaplamak:\n",
    "> Yüzdelik olarak hesaplanırsa regresyon, yüksek-düşük olarak hesaplanırsa sınıflandırma\n",
    "\n",
    "##### - Eğitim, tecrübe gibi parametreleri kullanarak, kişinin maaşını tahmin etmek:\n",
    "> Doğrudan maaşı tahmin edilecekse regresyon, aralıklar belirlenerek tahmin edilecekse sınıflandırma\n",
    "\n",
    "##### - Bir insanın yaşının tahmin edilmesi:\n",
    "> Regresyon\n",
    "\n",
    "##### - Bir insanın gelirinin tahmin edilmesi:\n",
    "> Regresyon\n",
    "\n",
    "##### - Herhangi bir hisse senedinin fiyatının yönünün tahmin edilmesi:\n",
    "> Sınıflandırma"
   ]
  }
 ],
 "metadata": {
  "kernelspec": {
   "display_name": "Python 3",
   "language": "python",
   "name": "python3"
  },
  "language_info": {
   "codemirror_mode": {
    "name": "ipython",
    "version": 3
   },
   "file_extension": ".py",
   "mimetype": "text/x-python",
   "name": "python",
   "nbconvert_exporter": "python",
   "pygments_lexer": "ipython3",
   "version": "3.7.1"
  }
 },
 "nbformat": 4,
 "nbformat_minor": 2
}
