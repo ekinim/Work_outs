{
 "cells": [
  {
   "cell_type": "code",
   "execution_count": 1,
   "metadata": {},
   "outputs": [],
   "source": [
    "import pandas as pd\n",
    "import numpy as np\n",
    "from sklearn import datasets\n",
    "import seaborn as sns\n",
    "import matplotlib.pyplot as plt\n",
    "from sklearn.linear_model import LogisticRegression\n",
    "from sklearn.model_selection import train_test_split\n",
    "import warnings\n",
    "\n",
    "warnings.filterwarnings('ignore')"
   ]
  },
  {
   "cell_type": "code",
   "execution_count": 2,
   "metadata": {},
   "outputs": [],
   "source": [
    "titanic=pd.read_csv(\"./titanic.csv\")"
   ]
  },
  {
   "cell_type": "code",
   "execution_count": 3,
   "metadata": {},
   "outputs": [],
   "source": [
    "titanic.Sex=titanic.Sex.replace({\"male\":1, \"female\":2})\n",
    "titanic=titanic.drop(\"PassengerId\", axis=1)\n",
    "titanic=titanic.drop(\"Ticket\", axis=1)\n",
    "titanic=titanic.drop(\"Name\", axis=1)\n",
    "titanic.Age=titanic.Age.fillna(0)\n",
    "\n",
    "titanic.Cabin=titanic.Cabin.fillna(\"Z\")\n",
    "titanic[\"CabinGroup\"]=[i[0] for i in titanic[\"Cabin\"]]\n",
    "titanic.Embarked=titanic.Embarked.fillna(\"C\")\n",
    "titanic=titanic.drop(\"Cabin\", axis=1)\n",
    "titanic.CabinGroup=titanic.CabinGroup.replace({\"A\":1, \"B\":2, \"C\":3,\n",
    "                                                \"D\":4, \"E\":5, \"F\":6,\n",
    "                                                \"G\":7, \"T\":8, \"Z\":8})"
   ]
  },
  {
   "cell_type": "code",
   "execution_count": 4,
   "metadata": {},
   "outputs": [],
   "source": [
    "titanic.Embarked=titanic.Embarked.replace({'C':1, 'S':2, 'Q':3})"
   ]
  },
  {
   "cell_type": "code",
   "execution_count": 5,
   "metadata": {},
   "outputs": [
    {
     "name": "stdout",
     "output_type": "stream",
     "text": [
      "<class 'pandas.core.frame.DataFrame'>\n",
      "RangeIndex: 891 entries, 0 to 890\n",
      "Data columns (total 9 columns):\n",
      "Survived      891 non-null int64\n",
      "Pclass        891 non-null int64\n",
      "Sex           891 non-null int64\n",
      "Age           891 non-null float64\n",
      "SibSp         891 non-null int64\n",
      "Parch         891 non-null int64\n",
      "Fare          891 non-null float64\n",
      "Embarked      891 non-null int64\n",
      "CabinGroup    891 non-null int64\n",
      "dtypes: float64(2), int64(7)\n",
      "memory usage: 62.7 KB\n"
     ]
    }
   ],
   "source": [
    "titanic.info()"
   ]
  },
  {
   "cell_type": "code",
   "execution_count": 6,
   "metadata": {
    "scrolled": true
   },
   "outputs": [
    {
     "data": {
      "text/html": [
       "<div>\n",
       "<style scoped>\n",
       "    .dataframe tbody tr th:only-of-type {\n",
       "        vertical-align: middle;\n",
       "    }\n",
       "\n",
       "    .dataframe tbody tr th {\n",
       "        vertical-align: top;\n",
       "    }\n",
       "\n",
       "    .dataframe thead th {\n",
       "        text-align: right;\n",
       "    }\n",
       "</style>\n",
       "<table border=\"1\" class=\"dataframe\">\n",
       "  <thead>\n",
       "    <tr style=\"text-align: right;\">\n",
       "      <th></th>\n",
       "      <th>Survived</th>\n",
       "      <th>Pclass</th>\n",
       "      <th>Sex</th>\n",
       "      <th>Age</th>\n",
       "      <th>SibSp</th>\n",
       "      <th>Parch</th>\n",
       "      <th>Fare</th>\n",
       "      <th>Embarked</th>\n",
       "      <th>CabinGroup</th>\n",
       "    </tr>\n",
       "  </thead>\n",
       "  <tbody>\n",
       "    <tr>\n",
       "      <th>0</th>\n",
       "      <td>0</td>\n",
       "      <td>3</td>\n",
       "      <td>1</td>\n",
       "      <td>22.0</td>\n",
       "      <td>1</td>\n",
       "      <td>0</td>\n",
       "      <td>7.2500</td>\n",
       "      <td>2</td>\n",
       "      <td>8</td>\n",
       "    </tr>\n",
       "    <tr>\n",
       "      <th>1</th>\n",
       "      <td>1</td>\n",
       "      <td>1</td>\n",
       "      <td>2</td>\n",
       "      <td>38.0</td>\n",
       "      <td>1</td>\n",
       "      <td>0</td>\n",
       "      <td>71.2833</td>\n",
       "      <td>1</td>\n",
       "      <td>3</td>\n",
       "    </tr>\n",
       "    <tr>\n",
       "      <th>2</th>\n",
       "      <td>1</td>\n",
       "      <td>3</td>\n",
       "      <td>2</td>\n",
       "      <td>26.0</td>\n",
       "      <td>0</td>\n",
       "      <td>0</td>\n",
       "      <td>7.9250</td>\n",
       "      <td>2</td>\n",
       "      <td>8</td>\n",
       "    </tr>\n",
       "    <tr>\n",
       "      <th>3</th>\n",
       "      <td>1</td>\n",
       "      <td>1</td>\n",
       "      <td>2</td>\n",
       "      <td>35.0</td>\n",
       "      <td>1</td>\n",
       "      <td>0</td>\n",
       "      <td>53.1000</td>\n",
       "      <td>2</td>\n",
       "      <td>3</td>\n",
       "    </tr>\n",
       "    <tr>\n",
       "      <th>4</th>\n",
       "      <td>0</td>\n",
       "      <td>3</td>\n",
       "      <td>1</td>\n",
       "      <td>35.0</td>\n",
       "      <td>0</td>\n",
       "      <td>0</td>\n",
       "      <td>8.0500</td>\n",
       "      <td>2</td>\n",
       "      <td>8</td>\n",
       "    </tr>\n",
       "  </tbody>\n",
       "</table>\n",
       "</div>"
      ],
      "text/plain": [
       "   Survived  Pclass  Sex   Age  SibSp  Parch     Fare  Embarked  CabinGroup\n",
       "0         0       3    1  22.0      1      0   7.2500         2           8\n",
       "1         1       1    2  38.0      1      0  71.2833         1           3\n",
       "2         1       3    2  26.0      0      0   7.9250         2           8\n",
       "3         1       1    2  35.0      1      0  53.1000         2           3\n",
       "4         0       3    1  35.0      0      0   8.0500         2           8"
      ]
     },
     "execution_count": 6,
     "metadata": {},
     "output_type": "execute_result"
    }
   ],
   "source": [
    "titanic.head()"
   ]
  },
  {
   "cell_type": "code",
   "execution_count": 7,
   "metadata": {},
   "outputs": [],
   "source": [
    "X=titanic.iloc[:,2:]\n",
    "y=titanic[\"Survived\"]"
   ]
  },
  {
   "cell_type": "code",
   "execution_count": 8,
   "metadata": {},
   "outputs": [],
   "source": [
    "X_eğitim, X_test, y_eğitim, y_test = train_test_split(X, y, test_size=0.30, random_state=276)"
   ]
  },
  {
   "cell_type": "code",
   "execution_count": 9,
   "metadata": {},
   "outputs": [
    {
     "name": "stdout",
     "output_type": "stream",
     "text": [
      "One-vs-rest\n",
      "--------------------\n",
      "Modelin eğitim verisindeki doğruluğu : 0.78\n",
      "Modelin test verisindeki doğruluğu   : 0.80\n",
      "\n",
      "\n",
      "Multinomial (Softmax)\n",
      "--------------------\n",
      "Modelin eğitim verisindeki doğruluğu : 0.78\n",
      "Modelin test verisindeki doğruluğu   : 0.79\n"
     ]
    }
   ],
   "source": [
    "model_1=titanic[[\"Pclass\", \"Sex\", \"Age\", \"SibSp\", \"Parch\"]]\n",
    "\n",
    "X_eğitim, X_test, y_eğitim, y_test = train_test_split(model_1, y, test_size=0.30, random_state=276)\n",
    "\n",
    "loj_1vsR=LogisticRegression()\n",
    "loj_1vsR.fit(X_eğitim, y_eğitim)\n",
    "\n",
    "loj_mnm = LogisticRegression(multi_class='multinomial', solver='lbfgs')\n",
    "loj_mnm.fit(X_eğitim, y_eğitim)\n",
    "\n",
    "\n",
    "egt_dogruluk_1vsR = loj_1vsR.score(X_eğitim, y_eğitim)\n",
    "test_dogruluk_1vsR = loj_1vsR.score(X_test, y_test)\n",
    "\n",
    "egt_dogruluk_mnm = loj_mnm.score(X_eğitim, y_eğitim)\n",
    "test_dogruluk_mnm = loj_mnm.score(X_test, y_test)\n",
    "\n",
    "print('One-vs-rest', '-'*20,\n",
    "      'Modelin eğitim verisindeki doğruluğu : {:.2f}'.format(egt_dogruluk_1vsR), \n",
    "      'Modelin test verisindeki doğruluğu   : {:.2f}'.format(test_dogruluk_1vsR), sep='\\n')\n",
    "\n",
    "print('\\n\\nMultinomial (Softmax)', '-'*20, \n",
    "      'Modelin eğitim verisindeki doğruluğu : {:.2f}'.format(egt_dogruluk_mnm), \n",
    "      'Modelin test verisindeki doğruluğu   : {:.2f}'.format(test_dogruluk_mnm), sep='\\n')"
   ]
  },
  {
   "cell_type": "code",
   "execution_count": 10,
   "metadata": {},
   "outputs": [
    {
     "name": "stdout",
     "output_type": "stream",
     "text": [
      "One-vs-rest\n",
      "--------------------\n",
      "Modelin eğitim verisindeki doğruluğu : 0.79\n",
      "Modelin test verisindeki doğruluğu   : 0.78\n",
      "\n",
      "\n",
      "Multinomial (Softmax)\n",
      "--------------------\n",
      "Modelin eğitim verisindeki doğruluğu : 0.78\n",
      "Modelin test verisindeki doğruluğu   : 0.78\n"
     ]
    }
   ],
   "source": [
    "model_2=titanic[[\"Sex\", \"Age\", \"Embarked\", \"CabinGroup\"]]\n",
    "\n",
    "X_eğitim, X_test, y_eğitim, y_test = train_test_split(model_2, y, test_size=0.30, random_state=276)\n",
    "\n",
    "loj_1vsR=LogisticRegression()\n",
    "loj_1vsR.fit(X_eğitim, y_eğitim)\n",
    "\n",
    "loj_mnm = LogisticRegression(multi_class='multinomial', solver='lbfgs')\n",
    "loj_mnm.fit(X_eğitim, y_eğitim)\n",
    "\n",
    "\n",
    "egt_dogruluk_1vsR = loj_1vsR.score(X_eğitim, y_eğitim)\n",
    "test_dogruluk_1vsR = loj_1vsR.score(X_test, y_test)\n",
    "\n",
    "egt_dogruluk_mnm = loj_mnm.score(X_eğitim, y_eğitim)\n",
    "test_dogruluk_mnm = loj_mnm.score(X_test, y_test)\n",
    "\n",
    "print('One-vs-rest', '-'*20,\n",
    "      'Modelin eğitim verisindeki doğruluğu : {:.2f}'.format(egt_dogruluk_1vsR), \n",
    "      'Modelin test verisindeki doğruluğu   : {:.2f}'.format(test_dogruluk_1vsR), sep='\\n')\n",
    "\n",
    "print('\\n\\nMultinomial (Softmax)', '-'*20, \n",
    "      'Modelin eğitim verisindeki doğruluğu : {:.2f}'.format(egt_dogruluk_mnm), \n",
    "      'Modelin test verisindeki doğruluğu   : {:.2f}'.format(test_dogruluk_mnm), sep='\\n')"
   ]
  },
  {
   "cell_type": "code",
   "execution_count": 11,
   "metadata": {},
   "outputs": [
    {
     "name": "stdout",
     "output_type": "stream",
     "text": [
      "One-vs-rest\n",
      "--------------------\n",
      "Modelin eğitim verisindeki doğruluğu : 0.79\n",
      "Modelin test verisindeki doğruluğu   : 0.79\n",
      "\n",
      "\n",
      "Multinomial (Softmax)\n",
      "--------------------\n",
      "Modelin eğitim verisindeki doğruluğu : 0.79\n",
      "Modelin test verisindeki doğruluğu   : 0.79\n"
     ]
    }
   ],
   "source": [
    "model_3=titanic[[\"Pclass\", \"Sex\", \"Age\", \"SibSp\", \"Parch\", \"Embarked\", \"CabinGroup\"]]\n",
    "\n",
    "X_eğitim, X_test, y_eğitim, y_test = train_test_split(model_3, y, test_size=0.30, random_state=276)\n",
    "\n",
    "loj_1vsR=LogisticRegression()\n",
    "loj_1vsR.fit(X_eğitim, y_eğitim)\n",
    "\n",
    "loj_mnm = LogisticRegression(multi_class='multinomial', solver='lbfgs')\n",
    "loj_mnm.fit(X_eğitim, y_eğitim)\n",
    "\n",
    "\n",
    "egt_dogruluk_1vsR = loj_1vsR.score(X_eğitim, y_eğitim)\n",
    "test_dogruluk_1vsR = loj_1vsR.score(X_test, y_test)\n",
    "\n",
    "egt_dogruluk_mnm = loj_mnm.score(X_eğitim, y_eğitim)\n",
    "test_dogruluk_mnm = loj_mnm.score(X_test, y_test)\n",
    "\n",
    "print('One-vs-rest', '-'*20,\n",
    "      'Modelin eğitim verisindeki doğruluğu : {:.2f}'.format(egt_dogruluk_1vsR), \n",
    "      'Modelin test verisindeki doğruluğu   : {:.2f}'.format(test_dogruluk_1vsR), sep='\\n')\n",
    "\n",
    "print('\\n\\nMultinomial (Softmax)', '-'*20, \n",
    "      'Modelin eğitim verisindeki doğruluğu : {:.2f}'.format(egt_dogruluk_mnm), \n",
    "      'Modelin test verisindeki doğruluğu   : {:.2f}'.format(test_dogruluk_mnm), sep='\\n')"
   ]
  },
  {
   "cell_type": "code",
   "execution_count": 17,
   "metadata": {},
   "outputs": [
    {
     "name": "stdout",
     "output_type": "stream",
     "text": [
      "One-vs-rest\n",
      "--------------------\n",
      "Modelin eğitim verisindeki doğruluğu : 0.80\n",
      "Modelin test verisindeki doğruluğu   : 0.80\n",
      "\n",
      "\n",
      "Multinomial (Softmax)\n",
      "--------------------\n",
      "Modelin eğitim verisindeki doğruluğu : 0.80\n",
      "Modelin test verisindeki doğruluğu   : 0.79\n"
     ]
    }
   ],
   "source": [
    "titanic[\"Pclass_Cgroup\"]=titanic[\"Pclass\"]*titanic[\"CabinGroup\"]\n",
    "model_4=titanic[[\"Sex\", \"Age\", \"Embarked\", \"Pclass_Cgroup\"]]\n",
    "\n",
    "X_eğitim, X_test, y_eğitim, y_test = train_test_split(model_4, y, test_size=0.30, random_state=276)\n",
    "\n",
    "loj_1vsR=LogisticRegression()\n",
    "loj_1vsR.fit(X_eğitim, y_eğitim)\n",
    "\n",
    "loj_mnm = LogisticRegression(multi_class='multinomial', solver='lbfgs')\n",
    "loj_mnm.fit(X_eğitim, y_eğitim)\n",
    "\n",
    "\n",
    "egt_dogruluk_1vsR = loj_1vsR.score(X_eğitim, y_eğitim)\n",
    "test_dogruluk_1vsR = loj_1vsR.score(X_test, y_test)\n",
    "\n",
    "egt_dogruluk_mnm = loj_mnm.score(X_eğitim, y_eğitim)\n",
    "test_dogruluk_mnm = loj_mnm.score(X_test, y_test)\n",
    "\n",
    "print('One-vs-rest', '-'*20,\n",
    "      'Modelin eğitim verisindeki doğruluğu : {:.2f}'.format(egt_dogruluk_1vsR), \n",
    "      'Modelin test verisindeki doğruluğu   : {:.2f}'.format(test_dogruluk_1vsR), sep='\\n')\n",
    "\n",
    "print('\\n\\nMultinomial (Softmax)', '-'*20, \n",
    "      'Modelin eğitim verisindeki doğruluğu : {:.2f}'.format(egt_dogruluk_mnm), \n",
    "      'Modelin test verisindeki doğruluğu   : {:.2f}'.format(test_dogruluk_mnm), sep='\\n')"
   ]
  }
 ],
 "metadata": {
  "kernelspec": {
   "display_name": "Python 3",
   "language": "python",
   "name": "python3"
  },
  "language_info": {
   "codemirror_mode": {
    "name": "ipython",
    "version": 3
   },
   "file_extension": ".py",
   "mimetype": "text/x-python",
   "name": "python",
   "nbconvert_exporter": "python",
   "pygments_lexer": "ipython3",
   "version": "3.7.1"
  }
 },
 "nbformat": 4,
 "nbformat_minor": 2
}
