{
 "cells": [
  {
   "cell_type": "markdown",
   "metadata": {},
   "source": [
    "1. \"RANK\" DEĞİŞKENİ\n",
    "\n",
    "    Eğer, bazı verilerin sıralamalarını bozmadan (ders notlarındaki \"grup\" değişkeni gibi) veya tek bir değişkene bağlı kalarak \"rank\" değişkenini vermiş olsaydık, ilgilendiğimiz veriyi \"kategorik değişken\" haline getirmiş olurduk ve bu veriyi kullanarak bir sonuca ulaşabilirdik.\n",
    "\n",
    "    Ancak, \"Rank\" değişkeni, belirli kıstaslar ve hesaplamalar neticesinde herhangi bir sıralamaya uymaksızın (sıralamaları bozarak) kişiler tarafından verilmiş bir değişkendir. Bu nedenle, kanallar, kullanıcılar, tercihler vb. ile ilgili hiç bir bilgi vermez. Bu değişken üzerinden yapılacak her türlü işlem bizi yanlış sonuca götürür."
   ]
  },
  {
   "cell_type": "markdown",
   "metadata": {},
   "source": [
    "2. DEĞİŞKEN TÜRLERİ\n",
    "\n",
    "    a. Yaş: Mutlak bir sıfır noktası olduğu ve sayısal olarak katlandığında gerçekte de birbirilerinin katları olarak büyüdüğü için ORAN değişkenidir.\n",
    "    \n",
    "    b. Maaş ve Gelir: İkisi de aynı tür değişkendir. Mutlak bir sıfır noktasının olması ve birbirlerinin katları şeklinde büyümeleri nedeniyle ORAN değişkenleridir.\n",
    "    \n",
    "    c. Müşteri Türü: Türüne göre değişebilir.\n",
    "    \n",
    "        (1) Herhangi bir üstünlük gözetmeksizin \"Kurumsal\" ve \"Bireysel\" vb. değerler alıyorsa NOMİNAL değişken olur.\n",
    "        \n",
    "        (2) \"Standart\", \"Gold\", \"Platin\" vb. değerler alıyor ve birbirilerine karşı üstünlük sağlanıyorsa ORDİNAL değişken olur.\n",
    "    \n",
    "    ç. Hisse Senedi Fiyatı: Hisse senedi fiyatı sıfır olduğunda hisse senedi yok olmaz. Ancak, birbirlerinin katları şeklinde büyürler ve ordinal değişkenlerdeki gibi büyüme aralıkları belirsiz değildir. Bu nedenlerle, ARALIK değişkenidir."
   ]
  }
 ],
 "metadata": {
  "kernelspec": {
   "display_name": "Python 3",
   "language": "python",
   "name": "python3"
  },
  "language_info": {
   "codemirror_mode": {
    "name": "ipython",
    "version": 3
   },
   "file_extension": ".py",
   "mimetype": "text/x-python",
   "name": "python",
   "nbconvert_exporter": "python",
   "pygments_lexer": "ipython3",
   "version": "3.7.1"
  }
 },
 "nbformat": 4,
 "nbformat_minor": 2
}
