{
 "cells": [
  {
   "cell_type": "code",
   "execution_count": 1,
   "metadata": {},
   "outputs": [],
   "source": [
    "import pandas as pd\n",
    "import matplotlib.pyplot as plt\n",
    "import numpy as np\n",
    "import warnings\n",
    "\n",
    "warnings.filterwarnings(\"ignore\")"
   ]
  },
  {
   "cell_type": "code",
   "execution_count": 2,
   "metadata": {},
   "outputs": [],
   "source": [
    "states=pd.read_csv(\"C:/Users/Gunesim/Desktop/Ödevler/states_all.csv\", engine=\"python\", encoding=\"utf8\")"
   ]
  },
  {
   "cell_type": "markdown",
   "metadata": {},
   "source": [
    "1NCİ SORU:"
   ]
  },
  {
   "cell_type": "code",
   "execution_count": 3,
   "metadata": {
    "scrolled": false
   },
   "outputs": [
    {
     "name": "stdout",
     "output_type": "stream",
     "text": [
      "<class 'pandas.core.frame.DataFrame'>\n",
      "RangeIndex: 1492 entries, 0 to 1491\n",
      "Data columns (total 25 columns):\n",
      "PRIMARY_KEY                     1492 non-null object\n",
      "STATE                           1492 non-null object\n",
      "YEAR                            1492 non-null int64\n",
      "ENROLL                          1229 non-null float64\n",
      "TOTAL_REVENUE                   1280 non-null float64\n",
      "FEDERAL_REVENUE                 1280 non-null float64\n",
      "STATE_REVENUE                   1280 non-null float64\n",
      "LOCAL_REVENUE                   1280 non-null float64\n",
      "TOTAL_EXPENDITURE               1280 non-null float64\n",
      "INSTRUCTION_EXPENDITURE         1280 non-null float64\n",
      "SUPPORT_SERVICES_EXPENDITURE    1280 non-null float64\n",
      "OTHER_EXPENDITURE               1229 non-null float64\n",
      "CAPITAL_OUTLAY_EXPENDITURE      1280 non-null float64\n",
      "GRADES_PK_G                     1319 non-null float64\n",
      "GRADES_KG_G                     1360 non-null float64\n",
      "GRADES_4_G                      1361 non-null float64\n",
      "GRADES_8_G                      1361 non-null float64\n",
      "GRADES_12_G                     1361 non-null float64\n",
      "GRADES_1_8_G                    1361 non-null float64\n",
      "GRADES_9_12_G                   1361 non-null float64\n",
      "GRADES_ALL_G                    1319 non-null float64\n",
      "AVG_MATH_4_SCORE                536 non-null float64\n",
      "AVG_MATH_8_SCORE                532 non-null float64\n",
      "AVG_READING_4_SCORE             533 non-null float64\n",
      "AVG_READING_8_SCORE             498 non-null float64\n",
      "dtypes: float64(22), int64(1), object(2)\n",
      "memory usage: 279.8+ KB\n"
     ]
    }
   ],
   "source": [
    "states.info()"
   ]
  },
  {
   "cell_type": "code",
   "execution_count": 4,
   "metadata": {},
   "outputs": [
    {
     "data": {
      "text/plain": [
       "PRIMARY_KEY                      0.000000\n",
       "STATE                            0.000000\n",
       "YEAR                             0.000000\n",
       "ENROLL                          17.627346\n",
       "TOTAL_REVENUE                   14.209115\n",
       "FEDERAL_REVENUE                 14.209115\n",
       "STATE_REVENUE                   14.209115\n",
       "LOCAL_REVENUE                   14.209115\n",
       "TOTAL_EXPENDITURE               14.209115\n",
       "INSTRUCTION_EXPENDITURE         14.209115\n",
       "SUPPORT_SERVICES_EXPENDITURE    14.209115\n",
       "OTHER_EXPENDITURE               17.627346\n",
       "CAPITAL_OUTLAY_EXPENDITURE      14.209115\n",
       "GRADES_PK_G                     11.595174\n",
       "GRADES_KG_G                      8.847185\n",
       "GRADES_4_G                       8.780161\n",
       "GRADES_8_G                       8.780161\n",
       "GRADES_12_G                      8.780161\n",
       "GRADES_1_8_G                     8.780161\n",
       "GRADES_9_12_G                    8.780161\n",
       "GRADES_ALL_G                    11.595174\n",
       "AVG_MATH_4_SCORE                64.075067\n",
       "AVG_MATH_8_SCORE                64.343164\n",
       "AVG_READING_4_SCORE             64.276139\n",
       "AVG_READING_8_SCORE             66.621984\n",
       "dtype: float64"
      ]
     },
     "execution_count": 4,
     "metadata": {},
     "output_type": "execute_result"
    }
   ],
   "source": [
    "states.isnull().sum()*100/states.shape[0]"
   ]
  },
  {
   "cell_type": "markdown",
   "metadata": {},
   "source": [
    "2NCİ SORU:\n",
    "Boş değer olan satırlar çıkarıldığında geriye 413 satır kalıyor. Bu da toplam satırların %27'sine denk geliyor ve önemli miktarda veri kayboluyor.\n",
    "\n",
    "Tüm değerler sayısal olduğu için ortalama değerlerle doldurulabilir."
   ]
  },
  {
   "cell_type": "markdown",
   "metadata": {},
   "source": [
    "3NCÜ SORU (Tablodaki boş değerlerin her yıla ait ortalama değerleriyle doldurulması):"
   ]
  },
  {
   "cell_type": "code",
   "execution_count": 5,
   "metadata": {},
   "outputs": [],
   "source": [
    "#Boş Değerler Tablosu (her döngüde tekrarlayan şekilde ortalama hesaplamamak için)\n",
    "yil_bos=states.groupby(\"YEAR\").mean()"
   ]
  },
  {
   "cell_type": "code",
   "execution_count": 6,
   "metadata": {
    "scrolled": true
   },
   "outputs": [],
   "source": [
    "#Tablodaki boş değerleri ortalama değerlerle doldurma\n",
    "for sutun in states.columns[3:,]:\n",
    "    for yil in states[\"YEAR\"].unique():\n",
    "        states[sutun][(states[\"YEAR\"]==yil) & (states[sutun].isnull())]=yil_bos[sutun][yil]"
   ]
  },
  {
   "cell_type": "markdown",
   "metadata": {},
   "source": [
    "Tüm değerler ortalama ile doldurulamamaktadır."
   ]
  },
  {
   "cell_type": "markdown",
   "metadata": {},
   "source": [
    "4NCÜ SORU (Tabloda ortalamalardan sonra boş kalan değerlerin enterpolasyon ile doldurulması):"
   ]
  },
  {
   "cell_type": "code",
   "execution_count": 7,
   "metadata": {
    "scrolled": true
   },
   "outputs": [],
   "source": [
    "#Tabloda boş olan değerleri enterpolasyon ile doldurma\n",
    "for sutun in states.columns[3:,]:\n",
    "    for yil in states[\"YEAR\"].unique():\n",
    "        \n",
    "        #Ortalamalar tablosundaki en küçük değeri doldurma\n",
    "        if (yil==states[\"YEAR\"].unique().min()) & (pd.isnull(yil_bos[sutun][yil])):\n",
    "            sayi=0\n",
    "    \n",
    "            while pd.isnull(yil_bos[sutun][yil+1+sayi]) | pd.isnull(yil_bos[sutun][yil+2+sayi]):\n",
    "                sayi+=1\n",
    "            \n",
    "            while sayi>=0:\n",
    "                yil_bos[sutun][yil+sayi]=2*yil_bos[sutun][yil+1+sayi]-yil_bos[sutun][yil+2+sayi]\n",
    "                sayi-=1\n",
    "\n",
    "        #Ortalamalar tablosundaki en büyük değeri doldurma\n",
    "        elif (yil==states[\"YEAR\"].unique().max()) & (pd.isnull(yil_bos[sutun][yil])):\n",
    "            sayi=0\n",
    "        \n",
    "            while pd.isnull(yil_bos[sutun][yil-1-sayi]) | pd.isnull(yil_bos[sutun][yil-2-sayi]):\n",
    "                sayi+=1\n",
    "            \n",
    "            while sayi>=0:\n",
    "                yil_bos[sutun][yil-sayi]=2*yil_bos[sutun][yil-1-sayi]-yil_bos[sutun][yil-2-sayi]\n",
    "                sayi-=1\n",
    "\n",
    "         #Ortalamalar tablosunda aralarda kalan değeri doldurma\n",
    "        elif pd.isnull(yil_bos[sutun][yil]):\n",
    "            sayi=0\n",
    "            \n",
    "            while (pd.isnull(yil_bos[sutun][yil+1+sayi])) & (yil+1+sayi<states[\"YEAR\"].unique().max()):\n",
    "                sayi+=1\n",
    "                \n",
    "            fark=0\n",
    "            fark=(yil_bos[sutun][yil+1+sayi]-yil_bos[sutun][yil-1])/(sayi+2)\n",
    "\n",
    "            while sayi>=0:\n",
    "                yil_bos[sutun][yil+sayi]=yil_bos[sutun][yil+1+sayi]-fark\n",
    "                sayi-=1\n",
    "                \n",
    "for sutun in states.columns[3:,]:\n",
    "    for yil in states[\"YEAR\"].unique():\n",
    "        states[sutun][(states[\"YEAR\"]==yil) & (states[sutun].isnull())]=yil_bos[sutun][yil]"
   ]
  },
  {
   "cell_type": "markdown",
   "metadata": {},
   "source": [
    "5NCİ SORU:\n",
    "\n",
    "> 2nci Soruda; çok fazla eksik veri olduğu için, bu şekilde çalışmak analizimizin doğruluğunu azaltabilir. Verilerimizde boş değer az olduğunda uygundur.\n",
    "\n",
    "> 3ncü Soruda; boş değerleri yıllara ait ortalama değerlerle doldurmak uygun olabilir. Ancak, yine de bazı yıllar için ortalama değerler de eksik. Halâ eksik veri kalıyor. Düzensiz veriler için uygundur.\n",
    "\n",
    "> 4ncü Soruda; enterpolasyon yaptığımızda verilerin seyrini önemli ölçüde etkileme riski mevcut. Ancak, verilerde bir trend söz konusu ise ortalama ile doldurmaktan daha anlamlı olabilir. Trend olan veriler için uygundur."
   ]
  }
 ],
 "metadata": {
  "kernelspec": {
   "display_name": "Python 3",
   "language": "python",
   "name": "python3"
  },
  "language_info": {
   "codemirror_mode": {
    "name": "ipython",
    "version": 3
   },
   "file_extension": ".py",
   "mimetype": "text/x-python",
   "name": "python",
   "nbconvert_exporter": "python",
   "pygments_lexer": "ipython3",
   "version": "3.7.1"
  }
 },
 "nbformat": 4,
 "nbformat_minor": 2
}
