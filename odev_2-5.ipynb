{
 "cells": [
  {
   "cell_type": "code",
   "execution_count": 1,
   "metadata": {},
   "outputs": [
    {
     "name": "stdout",
     "output_type": "stream",
     "text": [
      "Dosya içerisinde bulunan şiirde 12 adet dize vardır.\n",
      "\n",
      "İlk harfler yeni dosyaya aktarıldı.\n"
     ]
    }
   ],
   "source": [
    "dize_sayisi=0\n",
    "\n",
    "with open(\"https://github.com/ekinim/veri_bilimi/blob/master/Sessiz_Gemi.txt\", \"r\", encoding=\"utf8\") as f1:\n",
    "    with open(\"https://github.com/ekinim/veri_bilimi/blob/master/Sessiz_Gemi_ilk_harfler.txt\", \"w\", encoding=\"utf8\") as f2:\n",
    "        f2.write(f1.read(1)) #Dosyanın ilk karakterini \\ueffef olarak gordüğü için gerekli.\n",
    "        for dize in f1.readlines():\n",
    "            if not(dize==\"\\n\" or dize==\"\" or dize==\" \"):\n",
    "                dize_sayisi+=1\n",
    "                f2.write(dize[0]+\"\\n\")\n",
    "\n",
    "print(\"Dosya içerisinde bulunan şiirde {} adet dize vardır.\\n\".format(dize_sayisi))\n",
    "print(\"İlk harfler yeni dosyaya aktarıldı.\")"
   ]
  },
  {
   "cell_type": "code",
   "execution_count": 2,
   "metadata": {},
   "outputs": [
    {
     "name": "stdout",
     "output_type": "stream",
     "text": [
      "Asallık kontrolü için bir sayı girin: 47\n",
      "Girdiğiniz 47 sayısı asaldır.\n"
     ]
    }
   ],
   "source": [
    "def asal(x):\n",
    "    sayi=0\n",
    "    asal_mi=False\n",
    "    if x>0 and x<3:\n",
    "        print(\"Girdiğiniz {} sayısı asaldır.\".format(x))\n",
    "    elif x>=3:\n",
    "        for y in range(2,x-1):\n",
    "            if (x%y)==0:\n",
    "                sayi+=1\n",
    "        if sayi==0:\n",
    "            print(\"Girdiğiniz {} sayısı asaldır.\".format(x))\n",
    "        else:\n",
    "            print(\"Girdiğiniz {} sayısı asal değildir.\".format(x))\n",
    "    else:\n",
    "        print(\"Girilen veri negatif bir sayı veya sayı değil.\")\n",
    "\n",
    "asal(int(input(\"Asallık kontrolü için bir sayı girin: \")))"
   ]
  },
  {
   "cell_type": "code",
   "execution_count": 3,
   "metadata": {
    "scrolled": true
   },
   "outputs": [
    {
     "name": "stdout",
     "output_type": "stream",
     "text": [
      "Herhangi bir kelime girin: Çekoslavakyalılaştıramadıklarımızdan mısınız?\n",
      "[' ', '?', 'a', 'd', 'e', 'k', 'l', 'm', 'n', 'o', 'r', 's', 't', 'v', 'y', 'z', 'Ç']\n"
     ]
    }
   ],
   "source": [
    "liste1=[]\n",
    "liste2=[]\n",
    "\n",
    "def tekilleyici(k):\n",
    "    for harf in k:\n",
    "        liste1.append(harf)\n",
    "    \n",
    "    liste1.sort()\n",
    "    \n",
    "    for i in range(len(liste1)-2):\n",
    "        if not(liste1[i]==liste1[i+1]):\n",
    "            liste2.append(liste1[i])\n",
    "            \n",
    "    return liste2\n",
    "    \n",
    "tekilleyici(input(\"Herhangi bir kelime girin: \"))\n",
    "print(liste2)"
   ]
  },
  {
   "cell_type": "code",
   "execution_count": 4,
   "metadata": {},
   "outputs": [
    {
     "name": "stdout",
     "output_type": "stream",
     "text": [
      "Doğduğunuz yılı girin: 1982\n",
      "Doğduğunuz ayı girin: 01\n",
      "Doğduğunuz gunu girin: 06\n",
      "Siz, 37 yıl 0 ay 29 gün yaşındasınız.\n"
     ]
    }
   ],
   "source": [
    "import datetime as dt\n",
    "\n",
    "bugun=dt.date.today()\n",
    "d_tarih=dt.date(int(input(\"Doğduğunuz yılı girin: \")), \n",
    "                int(input(\"Doğduğunuz ayı girin: \")), \n",
    "                int(input(\"Doğduğunuz gunu girin: \")))\n",
    "\n",
    "yil=bugun.year-d_tarih.year\n",
    "ay=bugun.month-d_tarih.month\n",
    "gun=bugun.day-d_tarih.day\n",
    "\n",
    "if gun<0:\n",
    "    gun+=30\n",
    "    ay-=1\n",
    "    \n",
    "if ay<0:\n",
    "    ay+=12\n",
    "    yil-=1\n",
    "\n",
    "if yil<0:\n",
    "    print(\"Yanlış tarih girdiniz.\")\n",
    "else:\n",
    "    print(\"Siz, {} yıl {} ay {} gün yaşındasınız.\".format(yil, ay, gun))"
   ]
  }
 ],
 "metadata": {
  "kernelspec": {
   "display_name": "Python 3",
   "language": "python",
   "name": "python3"
  },
  "language_info": {
   "codemirror_mode": {
    "name": "ipython",
    "version": 3
   },
   "file_extension": ".py",
   "mimetype": "text/x-python",
   "name": "python",
   "nbconvert_exporter": "python",
   "pygments_lexer": "ipython3",
   "version": "3.7.1"
  }
 },
 "nbformat": 4,
 "nbformat_minor": 2
}
