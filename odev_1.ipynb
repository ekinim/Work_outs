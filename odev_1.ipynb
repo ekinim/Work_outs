{
 "cells": [
  {
   "cell_type": "code",
   "execution_count": 2,
   "metadata": {},
   "outputs": [
    {
     "name": "stdout",
     "output_type": "stream",
     "text": [
      "7 gün sonundaki para miktarı $2210.68 olurdu.\n"
     ]
    }
   ],
   "source": [
    "anaPara=1000\n",
    "gunlukKazanc=0.12\n",
    "toplamPara=anaPara*(1 + gunlukKazanc)**7\n",
    "print(\"7 gün sonundaki para miktarı ${:.2f} olurdu.\".format(toplamPara))"
   ]
  },
  {
   "cell_type": "code",
   "execution_count": 3,
   "metadata": {},
   "outputs": [
    {
     "name": "stdout",
     "output_type": "stream",
     "text": [
      "Hafta başında 1000 dolarlık bitcoin aldığımızda, \n",
      "günde ortalama %12 kazançla, bir hafta sonunda 1210.68 dolar kazanırdık.\n"
     ]
    }
   ],
   "source": [
    "print(\"\"\"Hafta başında 1000 dolarlık bitcoin aldığımızda, \n",
    "günde ortalama %{:.0f} kazançla, bir hafta sonunda {:.2f} dolar kazanırdık.\"\"\".format(gunlukKazanc*100, toplamPara-anaPara))"
   ]
  },
  {
   "cell_type": "code",
   "execution_count": 5,
   "metadata": {},
   "outputs": [
    {
     "name": "stdout",
     "output_type": "stream",
     "text": [
      "Dosya adını giriniz: odev\n",
      "\n",
      "Dosyanız odev.py olarak kaydedilecek.\n"
     ]
    }
   ],
   "source": [
    "print(\"\\nDosyanız {}.py olarak kaydedilecek.\".format(input(\"Dosya adını giriniz: \")))"
   ]
  }
 ],
 "metadata": {
  "kernelspec": {
   "display_name": "Python 3",
   "language": "python",
   "name": "python3"
  },
  "language_info": {
   "codemirror_mode": {
    "name": "ipython",
    "version": 3
   },
   "file_extension": ".py",
   "mimetype": "text/x-python",
   "name": "python",
   "nbconvert_exporter": "python",
   "pygments_lexer": "ipython3",
   "version": "3.7.1"
  }
 },
 "nbformat": 4,
 "nbformat_minor": 2
}
