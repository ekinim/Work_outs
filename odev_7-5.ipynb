{
 "cells": [
  {
   "cell_type": "code",
   "execution_count": 23,
   "metadata": {},
   "outputs": [],
   "source": [
    "import pandas as pd\n",
    "import numpy as np\n",
    "from sklearn import datasets\n",
    "import seaborn as sns\n",
    "import matplotlib.pyplot as plt\n",
    "from sklearn.linear_model import LogisticRegression\n",
    "from sklearn.model_selection import train_test_split, KFold, cross_validate, cross_val_score, cross_val_predict\n",
    "from sklearn.model_selection import GridSearchCV, RandomizedSearchCV\n",
    "from sklearn.metrics import log_loss, confusion_matrix, accuracy_score, precision_score, recall_score\n",
    "from sklearn.metrics import f1_score, roc_curve, roc_auc_score, precision_recall_curve\n",
    "\n",
    "import warnings\n",
    "warnings.filterwarnings('ignore')"
   ]
  },
  {
   "cell_type": "code",
   "execution_count": 2,
   "metadata": {},
   "outputs": [],
   "source": [
    "titanic=pd.read_csv(\"./titanic.csv\")"
   ]
  },
  {
   "cell_type": "code",
   "execution_count": 3,
   "metadata": {},
   "outputs": [],
   "source": [
    "titanic.Sex=titanic.Sex.replace({\"male\":1, \"female\":2})\n",
    "titanic=titanic.drop(\"PassengerId\", axis=1)\n",
    "titanic=titanic.drop(\"Ticket\", axis=1)\n",
    "titanic=titanic.drop(\"Name\", axis=1)\n",
    "titanic.Age=titanic.Age.fillna(0)\n",
    "\n",
    "titanic.Cabin=titanic.Cabin.fillna(\"Z\")\n",
    "titanic[\"CabinGroup\"]=[i[0] for i in titanic[\"Cabin\"]]\n",
    "titanic.Embarked=titanic.Embarked.fillna(\"C\")\n",
    "titanic=titanic.drop(\"Cabin\", axis=1)\n",
    "titanic.CabinGroup=titanic.CabinGroup.replace({\"A\":1, \"B\":2, \"C\":3,\n",
    "                                                \"D\":4, \"E\":5, \"F\":6,\n",
    "                                                \"G\":7, \"T\":8, \"Z\":8})"
   ]
  },
  {
   "cell_type": "code",
   "execution_count": 4,
   "metadata": {},
   "outputs": [],
   "source": [
    "titanic.Embarked=titanic.Embarked.replace({'C':1, 'S':2, 'Q':3})"
   ]
  },
  {
   "cell_type": "code",
   "execution_count": 5,
   "metadata": {},
   "outputs": [
    {
     "name": "stdout",
     "output_type": "stream",
     "text": [
      "<class 'pandas.core.frame.DataFrame'>\n",
      "RangeIndex: 891 entries, 0 to 890\n",
      "Data columns (total 9 columns):\n",
      "Survived      891 non-null int64\n",
      "Pclass        891 non-null int64\n",
      "Sex           891 non-null int64\n",
      "Age           891 non-null float64\n",
      "SibSp         891 non-null int64\n",
      "Parch         891 non-null int64\n",
      "Fare          891 non-null float64\n",
      "Embarked      891 non-null int64\n",
      "CabinGroup    891 non-null int64\n",
      "dtypes: float64(2), int64(7)\n",
      "memory usage: 62.7 KB\n"
     ]
    }
   ],
   "source": [
    "titanic.info()"
   ]
  },
  {
   "cell_type": "code",
   "execution_count": 6,
   "metadata": {
    "scrolled": true
   },
   "outputs": [
    {
     "data": {
      "text/html": [
       "<div>\n",
       "<style scoped>\n",
       "    .dataframe tbody tr th:only-of-type {\n",
       "        vertical-align: middle;\n",
       "    }\n",
       "\n",
       "    .dataframe tbody tr th {\n",
       "        vertical-align: top;\n",
       "    }\n",
       "\n",
       "    .dataframe thead th {\n",
       "        text-align: right;\n",
       "    }\n",
       "</style>\n",
       "<table border=\"1\" class=\"dataframe\">\n",
       "  <thead>\n",
       "    <tr style=\"text-align: right;\">\n",
       "      <th></th>\n",
       "      <th>Survived</th>\n",
       "      <th>Pclass</th>\n",
       "      <th>Sex</th>\n",
       "      <th>Age</th>\n",
       "      <th>SibSp</th>\n",
       "      <th>Parch</th>\n",
       "      <th>Fare</th>\n",
       "      <th>Embarked</th>\n",
       "      <th>CabinGroup</th>\n",
       "    </tr>\n",
       "  </thead>\n",
       "  <tbody>\n",
       "    <tr>\n",
       "      <th>0</th>\n",
       "      <td>0</td>\n",
       "      <td>3</td>\n",
       "      <td>1</td>\n",
       "      <td>22.0</td>\n",
       "      <td>1</td>\n",
       "      <td>0</td>\n",
       "      <td>7.2500</td>\n",
       "      <td>2</td>\n",
       "      <td>8</td>\n",
       "    </tr>\n",
       "    <tr>\n",
       "      <th>1</th>\n",
       "      <td>1</td>\n",
       "      <td>1</td>\n",
       "      <td>2</td>\n",
       "      <td>38.0</td>\n",
       "      <td>1</td>\n",
       "      <td>0</td>\n",
       "      <td>71.2833</td>\n",
       "      <td>1</td>\n",
       "      <td>3</td>\n",
       "    </tr>\n",
       "    <tr>\n",
       "      <th>2</th>\n",
       "      <td>1</td>\n",
       "      <td>3</td>\n",
       "      <td>2</td>\n",
       "      <td>26.0</td>\n",
       "      <td>0</td>\n",
       "      <td>0</td>\n",
       "      <td>7.9250</td>\n",
       "      <td>2</td>\n",
       "      <td>8</td>\n",
       "    </tr>\n",
       "    <tr>\n",
       "      <th>3</th>\n",
       "      <td>1</td>\n",
       "      <td>1</td>\n",
       "      <td>2</td>\n",
       "      <td>35.0</td>\n",
       "      <td>1</td>\n",
       "      <td>0</td>\n",
       "      <td>53.1000</td>\n",
       "      <td>2</td>\n",
       "      <td>3</td>\n",
       "    </tr>\n",
       "    <tr>\n",
       "      <th>4</th>\n",
       "      <td>0</td>\n",
       "      <td>3</td>\n",
       "      <td>1</td>\n",
       "      <td>35.0</td>\n",
       "      <td>0</td>\n",
       "      <td>0</td>\n",
       "      <td>8.0500</td>\n",
       "      <td>2</td>\n",
       "      <td>8</td>\n",
       "    </tr>\n",
       "  </tbody>\n",
       "</table>\n",
       "</div>"
      ],
      "text/plain": [
       "   Survived  Pclass  Sex   Age  SibSp  Parch     Fare  Embarked  CabinGroup\n",
       "0         0       3    1  22.0      1      0   7.2500         2           8\n",
       "1         1       1    2  38.0      1      0  71.2833         1           3\n",
       "2         1       3    2  26.0      0      0   7.9250         2           8\n",
       "3         1       1    2  35.0      1      0  53.1000         2           3\n",
       "4         0       3    1  35.0      0      0   8.0500         2           8"
      ]
     },
     "execution_count": 6,
     "metadata": {},
     "output_type": "execute_result"
    }
   ],
   "source": [
    "titanic.head()"
   ]
  },
  {
   "cell_type": "code",
   "execution_count": 7,
   "metadata": {},
   "outputs": [],
   "source": [
    "X=titanic.iloc[:,2:]\n",
    "y=titanic[\"Survived\"]"
   ]
  },
  {
   "cell_type": "code",
   "execution_count": 8,
   "metadata": {},
   "outputs": [],
   "source": [
    "X_eğitim, X_test, y_eğitim, y_test = train_test_split(X, y, test_size=0.30, random_state=276)"
   ]
  },
  {
   "cell_type": "code",
   "execution_count": 9,
   "metadata": {
    "scrolled": true
   },
   "outputs": [
    {
     "name": "stdout",
     "output_type": "stream",
     "text": [
      "One-vs-rest\n",
      "--------------------\n",
      "Modelin eğitim verisindeki doğruluğu : 0.80\n",
      "Modelin test verisindeki doğruluğu   : 0.80\n",
      "\n",
      "\n",
      "Multinomial (Softmax)\n",
      "--------------------\n",
      "Modelin eğitim verisindeki doğruluğu : 0.80\n",
      "Modelin test verisindeki doğruluğu   : 0.80\n"
     ]
    }
   ],
   "source": [
    "titanic[\"Pclass_Cgroup\"]=titanic[\"Pclass\"]*titanic[\"CabinGroup\"]\n",
    "model_4=titanic[[\"Sex\", \"Age\", \"Embarked\", \"Pclass_Cgroup\"]]\n",
    "\n",
    "X_eğitim, X_test, y_eğitim, y_test = train_test_split(model_4, y, test_size=0.30, random_state=276)\n",
    "\n",
    "m4_loj_1vsR=LogisticRegression()\n",
    "m4_loj_1vsR.fit(X_eğitim, y_eğitim)\n",
    "\n",
    "m4_loj_mnm = LogisticRegression(multi_class='multinomial', solver='lbfgs')\n",
    "m4_loj_mnm.fit(X_eğitim, y_eğitim)\n",
    "\n",
    "\n",
    "m4_egt_dogruluk_1vsR = m4_loj_1vsR.score(X_eğitim, y_eğitim)\n",
    "m4_test_dogruluk_1vsR = m4_loj_1vsR.score(X_test, y_test)\n",
    "\n",
    "m4_egt_dogruluk_mnm = m4_loj_mnm.score(X_eğitim, y_eğitim)\n",
    "m4_test_dogruluk_mnm = m4_loj_mnm.score(X_test, y_test)\n",
    "\n",
    "print('One-vs-rest', '-'*20,\n",
    "      'Modelin eğitim verisindeki doğruluğu : {:.2f}'.format(m4_egt_dogruluk_1vsR), \n",
    "      'Modelin test verisindeki doğruluğu   : {:.2f}'.format(m4_test_dogruluk_1vsR), sep='\\n')\n",
    "\n",
    "print('\\n\\nMultinomial (Softmax)', '-'*20, \n",
    "      'Modelin eğitim verisindeki doğruluğu : {:.2f}'.format(m4_egt_dogruluk_mnm), \n",
    "      'Modelin test verisindeki doğruluğu   : {:.2f}'.format(m4_egt_dogruluk_mnm), sep='\\n')"
   ]
  },
  {
   "cell_type": "code",
   "execution_count": 14,
   "metadata": {},
   "outputs": [],
   "source": [
    "tahmin_eğitim = m4_loj_1vsR.predict(X_eğitim)\n",
    "tahmin_test = m4_loj_1vsR.predict(X_test)\n",
    "\n",
    "hata_matrisi_eğitim = confusion_matrix(y_eğitim, tahmin_eğitim)\n",
    "hata_matrisi_test = confusion_matrix(y_test, tahmin_test)\n",
    "\n",
    "tahmin_test_ihtimal = m4_loj_1vsR.predict_proba(X_test)[:,1]"
   ]
  },
  {
   "cell_type": "code",
   "execution_count": 13,
   "metadata": {
    "scrolled": false
   },
   "outputs": [
    {
     "name": "stdout",
     "output_type": "stream",
     "text": [
      "Hata Matrisi (Eğitim verileri)\n",
      "------------------------------\n",
      "[[327  60]\n",
      " [ 65 171]]\n",
      "\n",
      "Hata Matrisi (Test verileri)\n",
      "------------------------------\n",
      "[[136  26]\n",
      " [ 28  78]]\n",
      "\n",
      "Accuracy değeri  :  0.7985074626865671\n",
      "\n",
      "Hata değeri      :  0.20149253731343286\n",
      "\n",
      "Precision değeri :  0.75\n",
      "\n",
      "Recall değeri    :  0.7358490566037735\n",
      "\n",
      "F1 değeri        :  0.7428571428571428\n",
      "\n",
      "Logartimik Kayıp :  0.4568488023924647\n"
     ]
    }
   ],
   "source": [
    "print(\"Hata Matrisi (Eğitim verileri)\", \"-\"*30, hata_matrisi_eğitim, sep=\"\\n\")\n",
    "print(\"\\nHata Matrisi (Test verileri)\", \"-\"*30, hata_matrisi_test, sep=\"\\n\")\n",
    "\n",
    "print(\"\\nAccuracy değeri  : \",  accuracy_score(y_test, tahmin_test))\n",
    "print(\"\\nHata değeri      : \",  1- accuracy_score(y_test, tahmin_test))\n",
    "print(\"\\nPrecision değeri : \",  precision_score(y_test, tahmin_test))\n",
    "print(\"\\nRecall değeri    : \",  recall_score(y_test, tahmin_test))\n",
    "print(\"\\nF1 değeri        : \",  f1_score(y_test, tahmin_test))\n",
    "print(\"\\nLogartimik Kayıp : \" , log_loss(y_test, tahmin_test_ihtimal))"
   ]
  },
  {
   "cell_type": "code",
   "execution_count": 27,
   "metadata": {},
   "outputs": [
    {
     "name": "stdout",
     "output_type": "stream",
     "text": [
      "Eğitim Skorları           : \n",
      "[0.79400749 0.79026217 0.79551122 0.78927681 0.79426434 0.79426434\n",
      " 0.79177057 0.79301746 0.79177057 0.79202989]\n",
      "\n",
      "Egitim Skorları Ortalaması: \n",
      "0.7834159005788219\n",
      "--------------------------------------------------\n",
      "\n",
      "Test Skorları             : \n",
      "[0.8        0.76666667 0.76404494 0.82022472 0.76404494 0.76404494\n",
      " 0.78651685 0.76404494 0.79775281 0.80681818]\n",
      "\n",
      "Test Skorları Ortalaması  : \n",
      "0.7834159005788219\n"
     ]
    }
   ],
   "source": [
    "cv=cross_validate(estimator=m4_loj_1vsR, X=X, y=y, cv=10)\n",
    "\n",
    "print('Eğitim Skorları           : ', cv['train_score'], sep = '\\n')\n",
    "print('\\nEgitim Skorları Ortalaması: ', cv['test_score'].mean(), sep = '\\n')\n",
    "print(\"-\"*50)\n",
    "print('\\nTest Skorları             : ', cv['test_score'], sep = '\\n')\n",
    "print('\\nTest Skorları Ortalaması  : ', cv['test_score'].mean(), sep = '\\n')"
   ]
  },
  {
   "cell_type": "code",
   "execution_count": 29,
   "metadata": {},
   "outputs": [
    {
     "name": "stdout",
     "output_type": "stream",
     "text": [
      "En iyi parametreler :  {'C': 1, 'penalty': 'l1'}\n",
      "En iyi skor         :  0.7833894500561167\n"
     ]
    }
   ],
   "source": [
    "parametreler = {\"C\": [10 ** x for x in range (-5, 5, 1)],\n",
    "                \"penalty\": ['l1', 'l2']\n",
    "                }\n",
    "grid_cv=GridSearchCV(estimator=m4_loj_1vsR, param_grid=parametreler, cv=10)\n",
    "grid_cv.fit(X, y)\n",
    "\n",
    "print(\"En iyi parametreler : \", grid_cv.best_params_)\n",
    "print(\"En iyi skor         : \", grid_cv.best_score_)"
   ]
  },
  {
   "cell_type": "code",
   "execution_count": 34,
   "metadata": {},
   "outputs": [
    {
     "data": {
      "text/html": [
       "<div>\n",
       "<style scoped>\n",
       "    .dataframe tbody tr th:only-of-type {\n",
       "        vertical-align: middle;\n",
       "    }\n",
       "\n",
       "    .dataframe tbody tr th {\n",
       "        vertical-align: top;\n",
       "    }\n",
       "\n",
       "    .dataframe thead th {\n",
       "        text-align: right;\n",
       "    }\n",
       "</style>\n",
       "<table border=\"1\" class=\"dataframe\">\n",
       "  <thead>\n",
       "    <tr style=\"text-align: right;\">\n",
       "      <th></th>\n",
       "      <th>param_penalty</th>\n",
       "      <th>param_C</th>\n",
       "      <th>mean_test_score</th>\n",
       "    </tr>\n",
       "  </thead>\n",
       "  <tbody>\n",
       "    <tr>\n",
       "      <th>10</th>\n",
       "      <td>l1</td>\n",
       "      <td>1</td>\n",
       "      <td>0.783389</td>\n",
       "    </tr>\n",
       "    <tr>\n",
       "      <th>11</th>\n",
       "      <td>l2</td>\n",
       "      <td>1</td>\n",
       "      <td>0.783389</td>\n",
       "    </tr>\n",
       "    <tr>\n",
       "      <th>14</th>\n",
       "      <td>l1</td>\n",
       "      <td>100</td>\n",
       "      <td>0.783389</td>\n",
       "    </tr>\n",
       "    <tr>\n",
       "      <th>13</th>\n",
       "      <td>l2</td>\n",
       "      <td>10</td>\n",
       "      <td>0.783389</td>\n",
       "    </tr>\n",
       "    <tr>\n",
       "      <th>12</th>\n",
       "      <td>l1</td>\n",
       "      <td>10</td>\n",
       "      <td>0.783389</td>\n",
       "    </tr>\n",
       "  </tbody>\n",
       "</table>\n",
       "</div>"
      ],
      "text/plain": [
       "   param_penalty param_C  mean_test_score\n",
       "10            l1       1         0.783389\n",
       "11            l2       1         0.783389\n",
       "14            l1     100         0.783389\n",
       "13            l2      10         0.783389\n",
       "12            l1      10         0.783389"
      ]
     },
     "execution_count": 34,
     "metadata": {},
     "output_type": "execute_result"
    }
   ],
   "source": [
    "sonuclar = grid_cv.cv_results_\n",
    "df = pd.DataFrame(sonuclar)\n",
    "df = df[['param_penalty','param_C', 'mean_test_score']]\n",
    "df = df.sort_values(by='mean_test_score', ascending = False)\n",
    "\n",
    "df.head()"
   ]
  },
  {
   "cell_type": "code",
   "execution_count": 37,
   "metadata": {},
   "outputs": [
    {
     "data": {
      "image/png": "[encoded data removed]",
      "text/plain": [
       "<Figure size 576x360 with 1 Axes>"
      ]
     },
     "metadata": {
      "needs_background": "light"
     },
     "output_type": "display_data"
    }
   ],
   "source": [
    "plt.figure(figsize=(8,5))\n",
    "sns.scatterplot(x = 'param_C', y = 'mean_test_score', hue = 'param_penalty', data = df, s=100)\n",
    "plt.xscale('symlog')\n",
    "plt.ylim((0.5,0.9))\n",
    "plt.show()"
   ]
  },
  {
   "cell_type": "code",
   "execution_count": 40,
   "metadata": {},
   "outputs": [
    {
     "data": {
      "text/html": [
       "<div>\n",
       "<style scoped>\n",
       "    .dataframe tbody tr th:only-of-type {\n",
       "        vertical-align: middle;\n",
       "    }\n",
       "\n",
       "    .dataframe tbody tr th {\n",
       "        vertical-align: top;\n",
       "    }\n",
       "\n",
       "    .dataframe thead th {\n",
       "        text-align: right;\n",
       "    }\n",
       "</style>\n",
       "<table border=\"1\" class=\"dataframe\">\n",
       "  <thead>\n",
       "    <tr style=\"text-align: right;\">\n",
       "      <th></th>\n",
       "      <th>param_penalty</th>\n",
       "      <th>param_C</th>\n",
       "      <th>mean_test_score</th>\n",
       "    </tr>\n",
       "  </thead>\n",
       "  <tbody>\n",
       "    <tr>\n",
       "      <th>2</th>\n",
       "      <td>l2</td>\n",
       "      <td>10</td>\n",
       "      <td>0.727750</td>\n",
       "    </tr>\n",
       "    <tr>\n",
       "      <th>4</th>\n",
       "      <td>l1</td>\n",
       "      <td>100</td>\n",
       "      <td>0.726831</td>\n",
       "    </tr>\n",
       "    <tr>\n",
       "      <th>5</th>\n",
       "      <td>l2</td>\n",
       "      <td>1000</td>\n",
       "      <td>0.726831</td>\n",
       "    </tr>\n",
       "    <tr>\n",
       "      <th>8</th>\n",
       "      <td>l1</td>\n",
       "      <td>1000</td>\n",
       "      <td>0.726831</td>\n",
       "    </tr>\n",
       "    <tr>\n",
       "      <th>3</th>\n",
       "      <td>l2</td>\n",
       "      <td>1</td>\n",
       "      <td>0.724320</td>\n",
       "    </tr>\n",
       "  </tbody>\n",
       "</table>\n",
       "</div>"
      ],
      "text/plain": [
       "  param_penalty param_C  mean_test_score\n",
       "2            l2      10         0.727750\n",
       "4            l1     100         0.726831\n",
       "5            l2    1000         0.726831\n",
       "8            l1    1000         0.726831\n",
       "3            l2       1         0.724320"
      ]
     },
     "execution_count": 40,
     "metadata": {},
     "output_type": "execute_result"
    }
   ],
   "source": [
    "rs_cv = RandomizedSearchCV(estimator=m4_loj_1vsR,\n",
    "                           param_distributions = parametreler,\n",
    "                           cv = 10,\n",
    "                           n_iter = 10,\n",
    "                           random_state = 111,\n",
    "                           scoring = 'precision'\n",
    "                      )\n",
    "rs_cv.fit(X, y)\n",
    "\n",
    "sonuçlar_rs = rs_cv.cv_results_\n",
    "df_rs = pd.DataFrame(sonuçlar_rs)\n",
    "df_rs = df_rs[['param_penalty','param_C', 'mean_test_score']]\n",
    "df_rs = df_rs.sort_values(by='mean_test_score', ascending = False)\n",
    "df_rs.head()"
   ]
  },
  {
   "cell_type": "code",
   "execution_count": 41,
   "metadata": {},
   "outputs": [
    {
     "data": {
      "image/png": "[encoded data removed]",
      "text/plain": [
       "<Figure size 576x360 with 1 Axes>"
      ]
     },
     "metadata": {},
     "output_type": "display_data"
    }
   ],
   "source": [
    "plt.style.use('fivethirtyeight')\n",
    "plt.figure(figsize=(8,5))\n",
    "sns.scatterplot(x = 'param_C', y = 'mean_test_score', hue = 'param_penalty', data = df_rs, s=200)\n",
    "plt.xscale('symlog')\n",
    "plt.ylim((0.5,0.9))\n",
    "plt.show()"
   ]
  }
 ],
 "metadata": {
  "kernelspec": {
   "display_name": "Python 3",
   "language": "python",
   "name": "python3"
  },
  "language_info": {
   "codemirror_mode": {
    "name": "ipython",
    "version": 3
   },
   "file_extension": ".py",
   "mimetype": "text/x-python",
   "name": "python",
   "nbconvert_exporter": "python",
   "pygments_lexer": "ipython3",
   "version": "3.7.1"
  }
 },
 "nbformat": 4,
 "nbformat_minor": 2
}
