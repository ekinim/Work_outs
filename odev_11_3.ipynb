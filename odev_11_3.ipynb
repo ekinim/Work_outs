{
  "nbformat": 4,
  "nbformat_minor": 0,
  "metadata": {
    "colab": {
      "name": "odev_11-3.ipynb",
      "version": "0.3.2",
      "provenance": [],
      "collapsed_sections": []
    },
    "kernelspec": {
      "name": "python3",
      "display_name": "Python 3"
    },
    "accelerator": "TPU"
  },
  "cells": [
    {
      "cell_type": "code",
      "metadata": {
        "id": "aS0Y4H3u7HyU",
        "colab_type": "code",
        "outputId": "313206e8-ff23-486b-8f09-6de09f4b3cd0",
        "colab": {
          "base_uri": "https://localhost:8080/",
          "height": 122
        }
      },
      "source": [
        "from google.colab import drive\n",
        "drive.mount('/content/drive')"
      ],
      "execution_count": 1,
      "outputs": [
        {
          "output_type": "stream",
          "text": [
            "Go to this URL in a browser: https://accounts.google.com/o/oauth2/auth?client_id=947318989803-6bn6qk8qdgf4n4g3pfee6491hc0brc4i.apps.googleusercontent.com&redirect_uri=urn%3Aietf%3Awg%3Aoauth%3A2.0%3Aoob&scope=email%20https%3A%2F%2Fwww.googleapis.com%2Fauth%2Fdocs.test%20https%3A%2F%2Fwww.googleapis.com%2Fauth%2Fdrive%20https%3A%2F%2Fwww.googleapis.com%2Fauth%2Fdrive.photos.readonly%20https%3A%2F%2Fwww.googleapis.com%2Fauth%2Fpeopleapi.readonly&response_type=code\n",
            "\n",
            "Enter your authorization code:\n",
            "··········\n",
            "Mounted at /content/drive\n"
          ],
          "name": "stdout"
        }
      ]
    },
    {
      "cell_type": "markdown",
      "metadata": {
        "id": "USkQB0PC7hss",
        "colab_type": "text"
      },
      "source": [
        "## 1. REGRESSION"
      ]
    },
    {
      "cell_type": "code",
      "metadata": {
        "id": "LsI6hqsd7YFm",
        "colab_type": "code",
        "outputId": "1bf547dc-8420-4127-bea6-ed5b5cfec323",
        "colab": {
          "base_uri": "https://localhost:8080/",
          "height": 34
        }
      },
      "source": [
        "import pandas as pd\n",
        "import numpy as np\n",
        "import matplotlib.pyplot as plt\n",
        "import math\n",
        "\n",
        "from statsmodels.tools.eval_measures import mse, rmse\n",
        "from sklearn.metrics import mean_absolute_error\n",
        "from sklearn.model_selection import train_test_split\n",
        "from keras import models, layers\n",
        "from sklearn import preprocessing"
      ],
      "execution_count": 2,
      "outputs": [
        {
          "output_type": "stream",
          "text": [
            "Using TensorFlow backend.\n"
          ],
          "name": "stderr"
        }
      ]
    },
    {
      "cell_type": "code",
      "metadata": {
        "id": "kx8vfdjY9TM3",
        "colab_type": "code",
        "colab": {}
      },
      "source": [
        "data_reg=pd.read_csv(\"/content/drive/My Drive/Colab Notebooks/Data_Science/odev/kc_house_data.csv\")"
      ],
      "execution_count": 0,
      "outputs": []
    },
    {
      "cell_type": "code",
      "metadata": {
        "id": "ACgv2yME_KW-",
        "colab_type": "code",
        "outputId": "1195597a-180f-4e2a-f503-7c58afcc58da",
        "colab": {
          "base_uri": "https://localhost:8080/",
          "height": 224
        }
      },
      "source": [
        "data_reg.head()"
      ],
      "execution_count": 4,
      "outputs": [
        {
          "output_type": "execute_result",
          "data": {
            "text/html": [
              "<div>\n",
              "<style scoped>\n",
              "    .dataframe tbody tr th:only-of-type {\n",
              "        vertical-align: middle;\n",
              "    }\n",
              "\n",
              "    .dataframe tbody tr th {\n",
              "        vertical-align: top;\n",
              "    }\n",
              "\n",
              "    .dataframe thead th {\n",
              "        text-align: right;\n",
              "    }\n",
              "</style>\n",
              "<table border=\"1\" class=\"dataframe\">\n",
              "  <thead>\n",
              "    <tr style=\"text-align: right;\">\n",
              "      <th></th>\n",
              "      <th>id</th>\n",
              "      <th>date</th>\n",
              "      <th>price</th>\n",
              "      <th>bedrooms</th>\n",
              "      <th>bathrooms</th>\n",
              "      <th>sqft_living</th>\n",
              "      <th>sqft_lot</th>\n",
              "      <th>floors</th>\n",
              "      <th>waterfront</th>\n",
              "      <th>view</th>\n",
              "      <th>condition</th>\n",
              "      <th>grade</th>\n",
              "      <th>sqft_above</th>\n",
              "      <th>sqft_basement</th>\n",
              "      <th>yr_built</th>\n",
              "      <th>yr_renovated</th>\n",
              "      <th>zipcode</th>\n",
              "      <th>lat</th>\n",
              "      <th>long</th>\n",
              "      <th>sqft_living15</th>\n",
              "      <th>sqft_lot15</th>\n",
              "    </tr>\n",
              "  </thead>\n",
              "  <tbody>\n",
              "    <tr>\n",
              "      <th>0</th>\n",
              "      <td>7129300520</td>\n",
              "      <td>20141013T000000</td>\n",
              "      <td>221900.0</td>\n",
              "      <td>3</td>\n",
              "      <td>1.00</td>\n",
              "      <td>1180</td>\n",
              "      <td>5650</td>\n",
              "      <td>1.0</td>\n",
              "      <td>0</td>\n",
              "      <td>0</td>\n",
              "      <td>3</td>\n",
              "      <td>7</td>\n",
              "      <td>1180</td>\n",
              "      <td>0</td>\n",
              "      <td>1955</td>\n",
              "      <td>0</td>\n",
              "      <td>98178</td>\n",
              "      <td>47.5112</td>\n",
              "      <td>-122.257</td>\n",
              "      <td>1340</td>\n",
              "      <td>5650</td>\n",
              "    </tr>\n",
              "    <tr>\n",
              "      <th>1</th>\n",
              "      <td>6414100192</td>\n",
              "      <td>20141209T000000</td>\n",
              "      <td>538000.0</td>\n",
              "      <td>3</td>\n",
              "      <td>2.25</td>\n",
              "      <td>2570</td>\n",
              "      <td>7242</td>\n",
              "      <td>2.0</td>\n",
              "      <td>0</td>\n",
              "      <td>0</td>\n",
              "      <td>3</td>\n",
              "      <td>7</td>\n",
              "      <td>2170</td>\n",
              "      <td>400</td>\n",
              "      <td>1951</td>\n",
              "      <td>1991</td>\n",
              "      <td>98125</td>\n",
              "      <td>47.7210</td>\n",
              "      <td>-122.319</td>\n",
              "      <td>1690</td>\n",
              "      <td>7639</td>\n",
              "    </tr>\n",
              "    <tr>\n",
              "      <th>2</th>\n",
              "      <td>5631500400</td>\n",
              "      <td>20150225T000000</td>\n",
              "      <td>180000.0</td>\n",
              "      <td>2</td>\n",
              "      <td>1.00</td>\n",
              "      <td>770</td>\n",
              "      <td>10000</td>\n",
              "      <td>1.0</td>\n",
              "      <td>0</td>\n",
              "      <td>0</td>\n",
              "      <td>3</td>\n",
              "      <td>6</td>\n",
              "      <td>770</td>\n",
              "      <td>0</td>\n",
              "      <td>1933</td>\n",
              "      <td>0</td>\n",
              "      <td>98028</td>\n",
              "      <td>47.7379</td>\n",
              "      <td>-122.233</td>\n",
              "      <td>2720</td>\n",
              "      <td>8062</td>\n",
              "    </tr>\n",
              "    <tr>\n",
              "      <th>3</th>\n",
              "      <td>2487200875</td>\n",
              "      <td>20141209T000000</td>\n",
              "      <td>604000.0</td>\n",
              "      <td>4</td>\n",
              "      <td>3.00</td>\n",
              "      <td>1960</td>\n",
              "      <td>5000</td>\n",
              "      <td>1.0</td>\n",
              "      <td>0</td>\n",
              "      <td>0</td>\n",
              "      <td>5</td>\n",
              "      <td>7</td>\n",
              "      <td>1050</td>\n",
              "      <td>910</td>\n",
              "      <td>1965</td>\n",
              "      <td>0</td>\n",
              "      <td>98136</td>\n",
              "      <td>47.5208</td>\n",
              "      <td>-122.393</td>\n",
              "      <td>1360</td>\n",
              "      <td>5000</td>\n",
              "    </tr>\n",
              "    <tr>\n",
              "      <th>4</th>\n",
              "      <td>1954400510</td>\n",
              "      <td>20150218T000000</td>\n",
              "      <td>510000.0</td>\n",
              "      <td>3</td>\n",
              "      <td>2.00</td>\n",
              "      <td>1680</td>\n",
              "      <td>8080</td>\n",
              "      <td>1.0</td>\n",
              "      <td>0</td>\n",
              "      <td>0</td>\n",
              "      <td>3</td>\n",
              "      <td>8</td>\n",
              "      <td>1680</td>\n",
              "      <td>0</td>\n",
              "      <td>1987</td>\n",
              "      <td>0</td>\n",
              "      <td>98074</td>\n",
              "      <td>47.6168</td>\n",
              "      <td>-122.045</td>\n",
              "      <td>1800</td>\n",
              "      <td>7503</td>\n",
              "    </tr>\n",
              "  </tbody>\n",
              "</table>\n",
              "</div>"
            ],
            "text/plain": [
              "           id             date     price  ...     long  sqft_living15  sqft_lot15\n",
              "0  7129300520  20141013T000000  221900.0  ... -122.257           1340        5650\n",
              "1  6414100192  20141209T000000  538000.0  ... -122.319           1690        7639\n",
              "2  5631500400  20150225T000000  180000.0  ... -122.233           2720        8062\n",
              "3  2487200875  20141209T000000  604000.0  ... -122.393           1360        5000\n",
              "4  1954400510  20150218T000000  510000.0  ... -122.045           1800        7503\n",
              "\n",
              "[5 rows x 21 columns]"
            ]
          },
          "metadata": {
            "tags": []
          },
          "execution_count": 4
        }
      ]
    },
    {
      "cell_type": "markdown",
      "metadata": {
        "id": "Ptv8GU7JBTjf",
        "colab_type": "text"
      },
      "source": [
        "Feature Engineering Convertions to Do for Better Results:\n",
        "\n",
        "1. Calculating age that house sold,\n",
        "2. Calculating age that house renovated,\n",
        "3. Dropping ID, date, zipcode, yr_built and yr_renovated columns,\n",
        "4. Correcting the bathroom quantities."
      ]
    },
    {
      "cell_type": "code",
      "metadata": {
        "id": "G6lJkS19CwFv",
        "colab_type": "code",
        "colab": {}
      },
      "source": [
        "data_reg[\"age_sold\"]=np.int64([i[0:4] for i in data_reg[\"date\"]]) - data_reg[\"yr_built\"]\n",
        "\n",
        "data_reg[\"yr_renovated\"]=data_reg[\"yr_renovated\"].replace(0, data_reg[\"yr_built\"])\n",
        "data_reg[\"yrs_past_renovation\"]=np.int64([i[0:4] for i in data_reg[\"date\"]]) - data_reg[\"yr_renovated\"]\n",
        "\n",
        "data_reg[\"bathrooms\"]=[math.trunc(i) for i in data_reg[\"bathrooms\"]]\n",
        "\n",
        "data_reg=data_reg.drop(data_reg[data_reg[\"bedrooms\"]>15].index, axis=0)\n",
        "data_reg=data_reg.drop(data_reg[data_reg[\"bedrooms\"]==0].index, axis=0)\n",
        "data_reg=data_reg.drop(data_reg[data_reg[\"bathrooms\"]==0].index, axis=0)\n",
        "\n",
        "data_reg=data_reg.drop([\"id\"], axis=1)\n",
        "data_reg=data_reg.drop([\"date\"], axis=1)\n",
        "data_reg=data_reg.drop([\"zipcode\"], axis=1)\n",
        "data_reg=data_reg.drop([\"yr_built\"], axis=1)\n",
        "data_reg=data_reg.drop([\"yr_renovated\"], axis=1)\n",
        "\n",
        "data_reg=data_reg.reset_index(drop=True)"
      ],
      "execution_count": 0,
      "outputs": []
    },
    {
      "cell_type": "code",
      "metadata": {
        "id": "HM43CvOSLEcr",
        "colab_type": "code",
        "colab": {}
      },
      "source": [
        "X=data_reg.iloc[:,1:]\n",
        "y=data_reg.iloc[:,0:1]"
      ],
      "execution_count": 0,
      "outputs": []
    },
    {
      "cell_type": "code",
      "metadata": {
        "id": "-x0esXtkhQ_Z",
        "colab_type": "code",
        "colab": {}
      },
      "source": [
        "X_norm=(X-X.mean())/X.std()\n",
        "\n",
        "y_norm=(y-y.mean())/y.std()"
      ],
      "execution_count": 0,
      "outputs": []
    },
    {
      "cell_type": "code",
      "metadata": {
        "id": "KO0eNyuwPUrg",
        "colab_type": "code",
        "colab": {}
      },
      "source": [
        "X_data, X_test, y_data, y_test=train_test_split(X_norm, y_norm, test_size=0.2, random_state=285)\n",
        "X_train, X_valid, y_train, y_valid=train_test_split(X_data, y_data, test_size=0.25, random_state=285)"
      ],
      "execution_count": 0,
      "outputs": []
    },
    {
      "cell_type": "markdown",
      "metadata": {
        "id": "9iGVgyj3YeHi",
        "colab_type": "text"
      },
      "source": [
        "#### Deep Learning Model"
      ]
    },
    {
      "cell_type": "code",
      "metadata": {
        "id": "kDIp-dlGYJ2E",
        "colab_type": "code",
        "colab": {
          "base_uri": "https://localhost:8080/",
          "height": 241
        },
        "outputId": "d1988cad-80e4-4b6c-cb1d-31d82cff5712"
      },
      "source": [
        "regressor=models.Sequential()\n",
        "\n",
        "regressor.add(layers.Dense(20, activation=\"relu\", input_shape=(17,)))\n",
        "regressor.add(layers.Dense(10, activation=\"relu\"))\n",
        "regressor.add(layers.Dense(1))\n",
        "\n",
        "regressor.compile(optimizer=\"rmsprop\", loss=\"mse\", metrics=[\"mae\"])\n",
        "\n",
        "history=regressor.fit(X_train, y_train, epochs=50, validation_data=(X_valid, y_valid), verbose=0)"
      ],
      "execution_count": 9,
      "outputs": [
        {
          "output_type": "stream",
          "text": [
            "WARNING:tensorflow:From /usr/local/lib/python3.6/dist-packages/keras/backend/tensorflow_backend.py:66: The name tf.get_default_graph is deprecated. Please use tf.compat.v1.get_default_graph instead.\n",
            "\n",
            "WARNING:tensorflow:From /usr/local/lib/python3.6/dist-packages/keras/backend/tensorflow_backend.py:541: The name tf.placeholder is deprecated. Please use tf.compat.v1.placeholder instead.\n",
            "\n",
            "WARNING:tensorflow:From /usr/local/lib/python3.6/dist-packages/keras/backend/tensorflow_backend.py:4432: The name tf.random_uniform is deprecated. Please use tf.random.uniform instead.\n",
            "\n",
            "WARNING:tensorflow:From /usr/local/lib/python3.6/dist-packages/keras/optimizers.py:793: The name tf.train.Optimizer is deprecated. Please use tf.compat.v1.train.Optimizer instead.\n",
            "\n",
            "WARNING:tensorflow:From /usr/local/lib/python3.6/dist-packages/keras/backend/tensorflow_backend.py:1033: The name tf.assign_add is deprecated. Please use tf.compat.v1.assign_add instead.\n",
            "\n",
            "WARNING:tensorflow:From /usr/local/lib/python3.6/dist-packages/keras/backend/tensorflow_backend.py:1020: The name tf.assign is deprecated. Please use tf.compat.v1.assign instead.\n",
            "\n"
          ],
          "name": "stdout"
        }
      ]
    },
    {
      "cell_type": "code",
      "metadata": {
        "id": "W96XS7bvmh-I",
        "colab_type": "code",
        "outputId": "c7435624-6899-4f00-a7c8-765b790693ec",
        "colab": {
          "base_uri": "https://localhost:8080/",
          "height": 295
        }
      },
      "source": [
        "loss=history.history[\"loss\"]\n",
        "val_loss=history.history[\"val_loss\"]\n",
        "\n",
        "epochs=range(1, len(loss)+1)\n",
        "\n",
        "plt.plot(epochs[10:], loss[10:], \"bo\", label=\"Training Loss\")\n",
        "plt.plot(epochs[10:], val_loss[10:], \"b\", label=\"Validation Loss\")\n",
        "plt.title(\"Training and Validation Losses\")\n",
        "plt.xlabel(\"Epochs\")\n",
        "plt.ylabel(\"Loss\")\n",
        "plt.legend()\n",
        "plt.show()"
      ],
      "execution_count": 10,
      "outputs": [
        {
          "output_type": "display_data",
          "data": {
            "image/png": "[encoded data removed]",
            "text/plain": [
              "<Figure size 432x288 with 1 Axes>"
            ]
          },
          "metadata": {
            "tags": []
          }
        }
      ]
    },
    {
      "cell_type": "code",
      "metadata": {
        "id": "jGUNr9sltO6J",
        "colab_type": "code",
        "colab": {}
      },
      "source": [
        "pred_tr=regressor.predict(X_train)\n",
        "pred=regressor.predict(X_test)"
      ],
      "execution_count": 0,
      "outputs": []
    },
    {
      "cell_type": "code",
      "metadata": {
        "id": "tgT274PywH7n",
        "colab_type": "code",
        "outputId": "68517dde-7d23-4143-fb7a-b0e1f3f0bef0",
        "colab": {
          "base_uri": "https://localhost:8080/",
          "height": 153
        }
      },
      "source": [
        "print(\"---------- REGRESSION ----------\")\n",
        "print(\"Mean Absolute Error (MAE)             : {}\".format(mean_absolute_error(y_test, pred)))\n",
        "print(\"Mean Squared Error (MSE)              : {}\".format(mse(y_test, pred)))\n",
        "print(\"Root Mean Square Error (RMSE)         : {}\".format(rmse(y_test, pred)))\n",
        "print(\"Mean Absolute Percentage Error (MAPE) : {}\".format(np.mean(np.abs((y_test - pred) / y_test)) * 100))\n",
        "print(\"\\n\")"
      ],
      "execution_count": 12,
      "outputs": [
        {
          "output_type": "stream",
          "text": [
            "---------- REGRESSION ----------\n",
            "Mean Absolute Error (MAE)             : 0.2037542343328597\n",
            "Mean Squared Error (MSE)              : [0.14909077]\n",
            "Root Mean Square Error (RMSE)         : [0.38612275]\n",
            "Mean Absolute Percentage Error (MAPE) : price    127.564962\n",
            "dtype: float64\n",
            "\n",
            "\n"
          ],
          "name": "stdout"
        }
      ]
    },
    {
      "cell_type": "code",
      "metadata": {
        "id": "n2yyoEU_wzSW",
        "colab_type": "code",
        "outputId": "cc0171b2-fb0e-4d69-8bea-275b4548cda8",
        "colab": {
          "base_uri": "https://localhost:8080/",
          "height": 295
        }
      },
      "source": [
        "plt.scatter(y_train, pred_tr, color=\"brown\", label=\"Training Set\", alpha=0.4)\n",
        "plt.scatter(y_test, pred, color=\"blue\", label=\"Test Set\", alpha=0.2)\n",
        "plt.plot(y_test, y_test, color=\"red\", label=\"Price Line\")\n",
        "plt.xlabel(\"True Prices\")\n",
        "plt.ylabel(\"Predicted Prices\")\n",
        "plt.title(\"True and Predicted Prices\")\n",
        "plt.legend(loc = \"upper left\")\n",
        "plt.show()"
      ],
      "execution_count": 13,
      "outputs": [
        {
          "output_type": "display_data",
          "data": {
            "image/png": "[encoded data removed]",
            "text/plain": [
              "<Figure size 432x288 with 1 Axes>"
            ]
          },
          "metadata": {
            "tags": []
          }
        }
      ]
    },
    {
      "cell_type": "markdown",
      "metadata": {
        "id": "kZCFU1-kd2wi",
        "colab_type": "text"
      },
      "source": [
        "## 2. CLASSIFICATION"
      ]
    },
    {
      "cell_type": "code",
      "metadata": {
        "colab_type": "code",
        "id": "XUXuWs1aqjD7",
        "colab": {}
      },
      "source": [
        "# Data Loading\n",
        "data_cls = pd.read_csv(\"/content/drive/My Drive/Colab Notebooks/Data_Science/odev/kidney_disease.csv\")\n",
        "\n",
        "# Data Cleaning\n",
        "data_cls[['htn','dm','cad','pe','ane']] = data_cls[['htn','dm','cad','pe','ane']].replace(to_replace={'yes':1,'no':0})\n",
        "\n",
        "data_cls[['rbc','pc']] = data_cls[['rbc','pc']].replace(to_replace={'abnormal':1,'normal':0})\n",
        "\n",
        "data_cls[['pcc','ba']] = data_cls[['pcc','ba']].replace(to_replace={'present':1,'notpresent':0})\n",
        "\n",
        "data_cls[['appet']] = data_cls[['appet']].replace(to_replace={'good':2,'poor':1,'no':0})\n",
        "\n",
        "data_cls['classification'] = data_cls['classification'].replace(to_replace={'ckd':1,'ckd\\t':1,'notckd':0,'no':0})\n",
        "\n",
        "data_cls.rename(columns={'classification':'class'}, inplace=True)\n",
        "\n",
        "data_cls['pe'] = data_cls['pe'].replace(to_replace='good',value=0)\n",
        "\n",
        "data_cls['appet'] = data_cls['appet'].replace(to_replace='no',value=0)\n",
        "\n",
        "data_cls['cad'] = data_cls['cad'].replace(to_replace='\\tno',value=0)\n",
        "\n",
        "data_cls['dm'] = data_cls['dm'].replace(to_replace={'\\tno':0,'\\tyes':1,' yes':1, '':np.nan})\n",
        "\n",
        "data_cls[[\"pcv\", \"wc\", \"rc\"]]=data_cls[[\"pcv\", \"wc\", \"rc\"]].replace(to_replace={'\\t?':np.nan})\n",
        "\n",
        "data_cls[[\"pcv\", \"wc\", \"rc\"]]=data_cls[[\"pcv\", \"wc\", \"rc\"]].astype(float)\n",
        "\n",
        "data_cls.drop('id',axis=1,inplace=True)\n",
        "\n",
        "data_cls=data_cls.dropna(axis=0)"
      ],
      "execution_count": 0,
      "outputs": []
    },
    {
      "cell_type": "code",
      "metadata": {
        "id": "NTva6ISApLmS",
        "colab_type": "code",
        "outputId": "bff4d505-c57b-49de-f75e-ecbdd9a0cefd",
        "colab": {
          "base_uri": "https://localhost:8080/",
          "height": 34
        }
      },
      "source": [
        "data_cls.shape"
      ],
      "execution_count": 16,
      "outputs": [
        {
          "output_type": "execute_result",
          "data": {
            "text/plain": [
              "(158, 25)"
            ]
          },
          "metadata": {
            "tags": []
          },
          "execution_count": 16
        }
      ]
    },
    {
      "cell_type": "code",
      "metadata": {
        "id": "CIFkw4SpgqsQ",
        "colab_type": "code",
        "outputId": "81ceaa64-5276-462c-96b1-4b79cad37dbf",
        "colab": {
          "base_uri": "https://localhost:8080/",
          "height": 204
        }
      },
      "source": [
        "data_cls.head()"
      ],
      "execution_count": 17,
      "outputs": [
        {
          "output_type": "execute_result",
          "data": {
            "text/html": [
              "<div>\n",
              "<style scoped>\n",
              "    .dataframe tbody tr th:only-of-type {\n",
              "        vertical-align: middle;\n",
              "    }\n",
              "\n",
              "    .dataframe tbody tr th {\n",
              "        vertical-align: top;\n",
              "    }\n",
              "\n",
              "    .dataframe thead th {\n",
              "        text-align: right;\n",
              "    }\n",
              "</style>\n",
              "<table border=\"1\" class=\"dataframe\">\n",
              "  <thead>\n",
              "    <tr style=\"text-align: right;\">\n",
              "      <th></th>\n",
              "      <th>age</th>\n",
              "      <th>bp</th>\n",
              "      <th>sg</th>\n",
              "      <th>al</th>\n",
              "      <th>su</th>\n",
              "      <th>rbc</th>\n",
              "      <th>pc</th>\n",
              "      <th>pcc</th>\n",
              "      <th>ba</th>\n",
              "      <th>bgr</th>\n",
              "      <th>bu</th>\n",
              "      <th>sc</th>\n",
              "      <th>sod</th>\n",
              "      <th>pot</th>\n",
              "      <th>hemo</th>\n",
              "      <th>pcv</th>\n",
              "      <th>wc</th>\n",
              "      <th>rc</th>\n",
              "      <th>htn</th>\n",
              "      <th>dm</th>\n",
              "      <th>cad</th>\n",
              "      <th>appet</th>\n",
              "      <th>pe</th>\n",
              "      <th>ane</th>\n",
              "      <th>class</th>\n",
              "    </tr>\n",
              "  </thead>\n",
              "  <tbody>\n",
              "    <tr>\n",
              "      <th>3</th>\n",
              "      <td>48.0</td>\n",
              "      <td>70.0</td>\n",
              "      <td>1.005</td>\n",
              "      <td>4.0</td>\n",
              "      <td>0.0</td>\n",
              "      <td>0.0</td>\n",
              "      <td>1.0</td>\n",
              "      <td>1.0</td>\n",
              "      <td>0.0</td>\n",
              "      <td>117.0</td>\n",
              "      <td>56.0</td>\n",
              "      <td>3.8</td>\n",
              "      <td>111.0</td>\n",
              "      <td>2.5</td>\n",
              "      <td>11.2</td>\n",
              "      <td>32.0</td>\n",
              "      <td>6700.0</td>\n",
              "      <td>3.9</td>\n",
              "      <td>1.0</td>\n",
              "      <td>0</td>\n",
              "      <td>0.0</td>\n",
              "      <td>1.0</td>\n",
              "      <td>1.0</td>\n",
              "      <td>1.0</td>\n",
              "      <td>1</td>\n",
              "    </tr>\n",
              "    <tr>\n",
              "      <th>9</th>\n",
              "      <td>53.0</td>\n",
              "      <td>90.0</td>\n",
              "      <td>1.020</td>\n",
              "      <td>2.0</td>\n",
              "      <td>0.0</td>\n",
              "      <td>1.0</td>\n",
              "      <td>1.0</td>\n",
              "      <td>1.0</td>\n",
              "      <td>0.0</td>\n",
              "      <td>70.0</td>\n",
              "      <td>107.0</td>\n",
              "      <td>7.2</td>\n",
              "      <td>114.0</td>\n",
              "      <td>3.7</td>\n",
              "      <td>9.5</td>\n",
              "      <td>29.0</td>\n",
              "      <td>12100.0</td>\n",
              "      <td>3.7</td>\n",
              "      <td>1.0</td>\n",
              "      <td>1</td>\n",
              "      <td>0.0</td>\n",
              "      <td>1.0</td>\n",
              "      <td>0.0</td>\n",
              "      <td>1.0</td>\n",
              "      <td>1</td>\n",
              "    </tr>\n",
              "    <tr>\n",
              "      <th>11</th>\n",
              "      <td>63.0</td>\n",
              "      <td>70.0</td>\n",
              "      <td>1.010</td>\n",
              "      <td>3.0</td>\n",
              "      <td>0.0</td>\n",
              "      <td>1.0</td>\n",
              "      <td>1.0</td>\n",
              "      <td>1.0</td>\n",
              "      <td>0.0</td>\n",
              "      <td>380.0</td>\n",
              "      <td>60.0</td>\n",
              "      <td>2.7</td>\n",
              "      <td>131.0</td>\n",
              "      <td>4.2</td>\n",
              "      <td>10.8</td>\n",
              "      <td>32.0</td>\n",
              "      <td>4500.0</td>\n",
              "      <td>3.8</td>\n",
              "      <td>1.0</td>\n",
              "      <td>1</td>\n",
              "      <td>0.0</td>\n",
              "      <td>1.0</td>\n",
              "      <td>1.0</td>\n",
              "      <td>0.0</td>\n",
              "      <td>1</td>\n",
              "    </tr>\n",
              "    <tr>\n",
              "      <th>14</th>\n",
              "      <td>68.0</td>\n",
              "      <td>80.0</td>\n",
              "      <td>1.010</td>\n",
              "      <td>3.0</td>\n",
              "      <td>2.0</td>\n",
              "      <td>0.0</td>\n",
              "      <td>1.0</td>\n",
              "      <td>1.0</td>\n",
              "      <td>1.0</td>\n",
              "      <td>157.0</td>\n",
              "      <td>90.0</td>\n",
              "      <td>4.1</td>\n",
              "      <td>130.0</td>\n",
              "      <td>6.4</td>\n",
              "      <td>5.6</td>\n",
              "      <td>16.0</td>\n",
              "      <td>11000.0</td>\n",
              "      <td>2.6</td>\n",
              "      <td>1.0</td>\n",
              "      <td>1</td>\n",
              "      <td>1.0</td>\n",
              "      <td>1.0</td>\n",
              "      <td>1.0</td>\n",
              "      <td>0.0</td>\n",
              "      <td>1</td>\n",
              "    </tr>\n",
              "    <tr>\n",
              "      <th>20</th>\n",
              "      <td>61.0</td>\n",
              "      <td>80.0</td>\n",
              "      <td>1.015</td>\n",
              "      <td>2.0</td>\n",
              "      <td>0.0</td>\n",
              "      <td>1.0</td>\n",
              "      <td>1.0</td>\n",
              "      <td>0.0</td>\n",
              "      <td>0.0</td>\n",
              "      <td>173.0</td>\n",
              "      <td>148.0</td>\n",
              "      <td>3.9</td>\n",
              "      <td>135.0</td>\n",
              "      <td>5.2</td>\n",
              "      <td>7.7</td>\n",
              "      <td>24.0</td>\n",
              "      <td>9200.0</td>\n",
              "      <td>3.2</td>\n",
              "      <td>1.0</td>\n",
              "      <td>1</td>\n",
              "      <td>1.0</td>\n",
              "      <td>1.0</td>\n",
              "      <td>1.0</td>\n",
              "      <td>1.0</td>\n",
              "      <td>1</td>\n",
              "    </tr>\n",
              "  </tbody>\n",
              "</table>\n",
              "</div>"
            ],
            "text/plain": [
              "     age    bp     sg   al   su  rbc   pc  ...  htn  dm  cad  appet   pe  ane  class\n",
              "3   48.0  70.0  1.005  4.0  0.0  0.0  1.0  ...  1.0   0  0.0    1.0  1.0  1.0      1\n",
              "9   53.0  90.0  1.020  2.0  0.0  1.0  1.0  ...  1.0   1  0.0    1.0  0.0  1.0      1\n",
              "11  63.0  70.0  1.010  3.0  0.0  1.0  1.0  ...  1.0   1  0.0    1.0  1.0  0.0      1\n",
              "14  68.0  80.0  1.010  3.0  2.0  0.0  1.0  ...  1.0   1  1.0    1.0  1.0  0.0      1\n",
              "20  61.0  80.0  1.015  2.0  0.0  1.0  1.0  ...  1.0   1  1.0    1.0  1.0  1.0      1\n",
              "\n",
              "[5 rows x 25 columns]"
            ]
          },
          "metadata": {
            "tags": []
          },
          "execution_count": 17
        }
      ]
    },
    {
      "cell_type": "code",
      "metadata": {
        "id": "X16Tk-yMewB7",
        "colab_type": "code",
        "colab": {}
      },
      "source": [
        "X_cls=data_cls.iloc[:,0:24]\n",
        "y_cls=data_cls.iloc[:,24:25]\n",
        "\n",
        "X_cls_data, X_cls_test, y_cls_data, y_cls_test=train_test_split(X_cls, y_cls, test_size=0.2, random_state=285)\n",
        "X_cls_train, X_cls_valid, y_cls_train, y_cls_valid=train_test_split(X_cls_data, y_cls_data, test_size=0.25, random_state=285)"
      ],
      "execution_count": 0,
      "outputs": []
    },
    {
      "cell_type": "code",
      "metadata": {
        "id": "ZYZ0Nf2jntPR",
        "colab_type": "code",
        "colab": {}
      },
      "source": [
        "classifier=models.Sequential()\n",
        "\n",
        "classifier.add(layers.Dense(64, activation=\"relu\", input_shape=(24,)))\n",
        "classifier.add(layers.Dense(16, activation=\"relu\"))\n",
        "classifier.add(layers.Dense(1, activation=\"sigmoid\"))\n",
        "\n",
        "classifier.compile(optimizer=\"rmsprop\", loss=\"binary_crossentropy\", metrics=[\"accuracy\"])\n",
        "\n",
        "history_cls=classifier.fit(X_cls_train, y_cls_train, epochs=50, validation_data=(X_cls_valid, y_cls_valid), verbose=0)"
      ],
      "execution_count": 0,
      "outputs": []
    },
    {
      "cell_type": "code",
      "metadata": {
        "id": "Tkw1yomUvMH2",
        "colab_type": "code",
        "outputId": "fabd4193-6911-4a24-ffa0-9090ad786a1d",
        "colab": {
          "base_uri": "https://localhost:8080/",
          "height": 295
        }
      },
      "source": [
        "loss_cls=history_cls.history[\"loss\"]\n",
        "val_loss_cls=history_cls.history[\"val_loss\"]\n",
        "\n",
        "epochs=range(0, len(loss_cls))\n",
        "\n",
        "plt.plot(epochs, loss_cls, \"bo\", label=\"Training Loss\")\n",
        "plt.plot(epochs, val_loss_cls, \"b\", label=\"Validation Loss\")\n",
        "plt.title(\"Training and Validation Losses\")\n",
        "plt.xlabel(\"Epochs\")\n",
        "plt.ylabel(\"Loss\")\n",
        "plt.legend()\n",
        "plt.show()"
      ],
      "execution_count": 28,
      "outputs": [
        {
          "output_type": "display_data",
          "data": {
            "image/png": "[encoded data removed]",
            "text/plain": [
              "<Figure size 432x288 with 1 Axes>"
            ]
          },
          "metadata": {
            "tags": []
          }
        }
      ]
    },
    {
      "cell_type": "markdown",
      "metadata": {
        "id": "mTD28-kU4iZh",
        "colab_type": "text"
      },
      "source": [
        "## 3. İYİLEŞTİRMELER\n",
        "\n",
        "Her iki model için de parametrelerle oynanarak ve katman sayıları değiştirilerek en uygun modeller bulunabilir.\n",
        "\n",
        "Ancak, sınıflandırma modelinde boş veriler olan satırlar çıkarıldığında, geriye çok az veri kalmakta ve verimiz dengesiz bir veri setine dönüşmektedir. Bunun neticesinde, sinir ağı modeli kullanmak gereksiz hale gelmektedir.\n",
        "\n",
        "Bunun önüne geçmek için boş değerler uygun verilerle doldurulabilir veya örnek çoğaltma yöntemleri kullanılarak veri setimiz zenginleştirilebilir."
      ]
    }
  ]
}