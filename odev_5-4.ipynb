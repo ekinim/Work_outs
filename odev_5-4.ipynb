{
 "cells": [
  {
   "cell_type": "markdown",
   "metadata": {},
   "source": [
    "1İNCİ SORU:"
   ]
  },
  {
   "cell_type": "raw",
   "metadata": {},
   "source": [
    "SELECT\n",
    "\tcustomerNumber,\n",
    "    customerName,\n",
    "    creditLimit\n",
    "    \n",
    "FROM\n",
    "\tcustomers\n",
    "    \n",
    "WHERE\n",
    "\tcreditLimit>100000\n",
    "    \n",
    "ORDER BY\n",
    "\tcreditLimit DESC"
   ]
  },
  {
   "cell_type": "raw",
   "metadata": {},
   "source": [
    "07:39:00\t25 row(s) returned\t0.032 sec / 0.000 sec"
   ]
  },
  {
   "cell_type": "raw",
   "metadata": {},
   "source": [
    "'141', 'Euro+ Shopping Channel',       '227600.00'\n",
    "'124', 'Mini Gifts Distributors Ltd.', '210500.00'\n",
    "'298', 'Vida Sport, Ltd',              '141300.00'\n",
    "'151', 'Muscle Machine Inc',           '138500.00'\n",
    "'187', 'AV Stores, Co.',               '136800.00'\n",
    "'146', 'Saveley & Henriot, Co.',       '123900.00'\n",
    "'286', 'Marta\\'s Replicas Co.',        '123700.00'\n",
    "'386', 'L\\'ordine Souveniers',         '121400.00'\n",
    "'227', 'Heintze Collectables',         '120800.00'\n",
    "'259', 'Toms Spezialitäten, Ltd',      '120400.00'\n",
    "'278', 'Rovelli Gifts',                '119600.00'\n",
    "'119', 'La Rochelle Gifts',            '118200.00'\n",
    "'114', 'Australian Collectors, Co.',   '117300.00'\n",
    "'448', 'Scandinavian Gift Ideas',      '116400.00'\n",
    "'131', 'Land of Toys Inc.',            '114900.00'\n",
    "'363', 'Online Diecast Creations Co.', '114200.00'\n",
    "'249', 'Amica Models & Co.',           '113000.00'\n",
    "'496', 'Kelly\\'s Gift Shop',           '110000.00'\n",
    "'276', 'Anna\\'s Decorations, Ltd',     '107800.00'\n",
    "'239', 'Collectable Mini Designs Co.', '105000.00'\n",
    "'321', 'Corporate Gift Ideas Co.',     '105000.00'\n",
    "'458', 'Corrida Auto Replicas, Ltd',   '104600.00'\n",
    "'148', 'Dragon Souveniers, Ltd.',      '103800.00'\n",
    "'319', 'Mini Classics',                '102700.00'\n",
    "'157', 'Diecast Classics Inc.',        '100600.00'"
   ]
  },
  {
   "cell_type": "markdown",
   "metadata": {},
   "source": [
    "2NCİ SORU:"
   ]
  },
  {
   "cell_type": "raw",
   "metadata": {},
   "source": [
    "SELECT *\n",
    "\n",
    "FROM\n",
    "\tcustomers\n",
    "    \n",
    "WHERE\n",
    "\tcustomerNumber=151"
   ]
  },
  {
   "cell_type": "raw",
   "metadata": {},
   "source": [
    "# customerNumber, customerName,       contactLastName, contactFirstName, phone,      addressLine1,        addressLine2, \n",
    "        151,      Muscle Machine Inc, Young,           Jeff,             2125557413, 4092   Furth Circle, Suite 400,\n",
    "\n",
    "city, state, postalCode, country, salesRepEmployeeNumber, creditLimit\n",
    "NYC,  NY,    10022,      USA,              1286,          138500.00"
   ]
  },
  {
   "cell_type": "markdown",
   "metadata": {},
   "source": [
    "3ÜNCÜ SORU:"
   ]
  },
  {
   "cell_type": "raw",
   "metadata": {},
   "source": [
    "SELECT\n",
    "\tcreditLimit\n",
    "    \n",
    "FROM\n",
    "\tcustomers\n",
    "    \n",
    "WHERE\n",
    "\tpostalCode=10022\n",
    "    \n",
    "ORDER BY\n",
    "\tcreditLimit DESC"
   ]
  },
  {
   "cell_type": "raw",
   "metadata": {},
   "source": [
    "07:56:33\t5 row(s) returned\t0.031 sec / 0.000 sec"
   ]
  },
  {
   "cell_type": "raw",
   "metadata": {},
   "source": [
    "creditLimit\n",
    "138500.00\n",
    "114900.00\n",
    "76400.00\n",
    "67500.00\n",
    "39800.00"
   ]
  }
 ],
 "metadata": {
  "kernelspec": {
   "display_name": "Python 3",
   "language": "python",
   "name": "python3"
  },
  "language_info": {
   "codemirror_mode": {
    "name": "ipython",
    "version": 3
   },
   "file_extension": ".py",
   "mimetype": "text/x-python",
   "name": "python",
   "nbconvert_exporter": "python",
   "pygments_lexer": "ipython3",
   "version": "3.7.1"
  }
 },
 "nbformat": 4,
 "nbformat_minor": 2
}
