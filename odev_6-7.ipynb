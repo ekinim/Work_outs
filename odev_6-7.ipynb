{
 "cells": [
  {
   "cell_type": "code",
   "execution_count": 34,
   "metadata": {},
   "outputs": [],
   "source": [
    "import pandas as pd\n",
    "import matplotlib.pyplot as plt\n",
    "import seaborn as sns\n",
    "import numpy as np\n",
    "import scipy.stats as sts\n",
    "import statsmodels.api as sm\n",
    "import warnings\n",
    "\n",
    "from statsmodels.tools.eval_measures import mse, rmse\n",
    "from statsmodels.tsa.stattools import acf\n",
    "\n",
    "from sklearn import linear_model\n",
    "from sklearn.model_selection import train_test_split, KFold, cross_val_score\n",
    "from sklearn.preprocessing import normalize, scale, StandardScaler\n",
    "from sklearn.decomposition import PCA\n",
    "from sklearn.linear_model import LinearRegression, Ridge, Lasso, ElasticNet\n",
    "from sklearn.metrics import mean_absolute_error\n",
    "\n",
    "from scipy.stats.mstats import winsorize\n",
    "from scipy.stats import jarque_bera, normaltest, bartlett, levene\n",
    "from sqlalchemy import create_engine\n",
    "\n",
    "warnings.filterwarnings('ignore')"
   ]
  },
  {
   "cell_type": "markdown",
   "metadata": {},
   "source": [
    "Veri setimiz için test verisi hâlihazırda verilmiş olduğu için ayrıca test verisi ayırmamıza gerek yok."
   ]
  },
  {
   "cell_type": "markdown",
   "metadata": {},
   "source": [
    "EĞİTİM VERİSİ"
   ]
  },
  {
   "cell_type": "code",
   "execution_count": 27,
   "metadata": {},
   "outputs": [],
   "source": [
    "knt=pd.read_csv(\".\\\\konut_train.csv\")\n",
    "\n",
    "kategorik=[i for i in knt.columns if knt[i].dtype==\"object\"]\n",
    "surekli=[i for i in knt.columns if (knt[i].dtype==\"int64\" or knt[i].dtype==\"float64\")]\n",
    "\n",
    "konut=knt\n",
    "for i in kategorik:\n",
    "    konut[i]=knt[i].fillna(\"Null\")\n",
    "for i in surekli:\n",
    "    konut[i]=knt[i].fillna(0)"
   ]
  },
  {
   "cell_type": "code",
   "execution_count": null,
   "metadata": {},
   "outputs": [],
   "source": [
    "Y_egt=konut[\"SalePrice\"]"
   ]
  },
  {
   "cell_type": "code",
   "execution_count": 78,
   "metadata": {},
   "outputs": [],
   "source": [
    "sonuc=pd.DataFrame(columns=[\"OLS\", \"Ridge\", \"Lasso\"], index=[\"Model_1\", \"Model_2\", \"Model_3\", \"Model_4\"])"
   ]
  },
  {
   "cell_type": "markdown",
   "metadata": {},
   "source": [
    "### 1inci Model:"
   ]
  },
  {
   "cell_type": "markdown",
   "metadata": {},
   "source": [
    "- Eğitim"
   ]
  },
  {
   "cell_type": "code",
   "execution_count": 79,
   "metadata": {},
   "outputs": [],
   "source": [
    "X1=konut[[\"YearBuilt\", \"TotalBsmtSF\", \"TotRmsAbvGrd\", \"LotFrontage\"]]"
   ]
  },
  {
   "cell_type": "code",
   "execution_count": 83,
   "metadata": {},
   "outputs": [],
   "source": [
    "X1=StandardScaler().fit_transform(X1)\n",
    "\n",
    "m1_OLS=LinearRegression()\n",
    "m1_ridge=Ridge(alpha=10**37)\n",
    "m1_lasso=Lasso(alpha=10**21)\n",
    "\n",
    "sonuc[\"OLS\"][\"Model_1\"]=cross_val_score(m1_OLS, X1, Y_egt, cv=10).mean()\n",
    "sonuc[\"Ridge\"][\"Model_1\"]=cross_val_score(m1_ridge, X1, Y_egt, cv=10).mean()\n",
    "sonuc[\"Lasso\"][\"Model_1\"]=cross_val_score(m1_lasso, X1, Y_egt, cv=10).mean()"
   ]
  },
  {
   "cell_type": "markdown",
   "metadata": {},
   "source": [
    "### 2nci Model:"
   ]
  },
  {
   "cell_type": "markdown",
   "metadata": {},
   "source": [
    "- Eğitim"
   ]
  },
  {
   "cell_type": "code",
   "execution_count": 85,
   "metadata": {
    "scrolled": false
   },
   "outputs": [],
   "source": [
    "X2=konut[[\"OverallQual\", \"TotalBsmtSF\", \"1stFlrSF\", \"GrLivArea\"]]"
   ]
  },
  {
   "cell_type": "code",
   "execution_count": 86,
   "metadata": {},
   "outputs": [],
   "source": [
    "X2=StandardScaler().fit_transform(X2)\n",
    "\n",
    "m2_OLS=LinearRegression()\n",
    "m2_ridge=Ridge(alpha=10**37)\n",
    "m2_lasso=Lasso(alpha=10**21)\n",
    "\n",
    "sonuc[\"OLS\"][\"Model_2\"]=cross_val_score(m2_OLS, X2, Y_egt, cv=10).mean()\n",
    "sonuc[\"Ridge\"][\"Model_2\"]=cross_val_score(m2_ridge, X2, Y_egt, cv=10).mean()\n",
    "sonuc[\"Lasso\"][\"Model_2\"]=cross_val_score(m2_lasso, X2, Y_egt, cv=10).mean()"
   ]
  },
  {
   "cell_type": "markdown",
   "metadata": {},
   "source": [
    "### 3üncü Model:"
   ]
  },
  {
   "cell_type": "markdown",
   "metadata": {},
   "source": [
    "- Eğitim"
   ]
  },
  {
   "cell_type": "code",
   "execution_count": 87,
   "metadata": {
    "scrolled": false
   },
   "outputs": [],
   "source": [
    "X3=konut[[\"OverallQual\", \"GarageCars\", \"YearBuilt\", \"GrLivArea\", \"FullBath\", \"Fireplaces\"]]"
   ]
  },
  {
   "cell_type": "code",
   "execution_count": 88,
   "metadata": {},
   "outputs": [],
   "source": [
    "X3=StandardScaler().fit_transform(X3)\n",
    "\n",
    "m3_OLS=LinearRegression()\n",
    "m3_ridge=Ridge(alpha=10**37)\n",
    "m3_lasso=Lasso(alpha=10**21)\n",
    "\n",
    "sonuc[\"OLS\"][\"Model_3\"]=cross_val_score(m3_OLS, X3, Y_egt, cv=10).mean()\n",
    "sonuc[\"Ridge\"][\"Model_3\"]=cross_val_score(m3_ridge, X3, Y_egt, cv=10).mean()\n",
    "sonuc[\"Lasso\"][\"Model_3\"]=cross_val_score(m3_lasso, X3, Y_egt, cv=10).mean()"
   ]
  },
  {
   "cell_type": "markdown",
   "metadata": {},
   "source": [
    "### 4üncü Model:"
   ]
  },
  {
   "cell_type": "markdown",
   "metadata": {},
   "source": [
    "- Eğitim"
   ]
  },
  {
   "cell_type": "code",
   "execution_count": 89,
   "metadata": {
    "scrolled": false
   },
   "outputs": [],
   "source": [
    "konut[\"LivingArea\"]=konut[\"GrLivArea\"] * konut[\"MasVnrArea\"]\n",
    "\n",
    "X4=konut[[\"OverallQual\", \"TotalBsmtSF\", \"1stFlrSF\", \"GrLivArea\", \"LivingArea\"]]"
   ]
  },
  {
   "cell_type": "code",
   "execution_count": 90,
   "metadata": {},
   "outputs": [],
   "source": [
    "X4=StandardScaler().fit_transform(X4)\n",
    "\n",
    "m4_OLS=LinearRegression()\n",
    "m4_ridge=Ridge(alpha=10**37)\n",
    "m4_lasso=Lasso(alpha=10**21)\n",
    "\n",
    "sonuc[\"OLS\"][\"Model_4\"]=cross_val_score(m4_OLS, X4, Y_egt, cv=10).mean()\n",
    "sonuc[\"Ridge\"][\"Model_4\"]=cross_val_score(m4_ridge, X4, Y_egt, cv=10).mean()\n",
    "sonuc[\"Lasso\"][\"Model_4\"]=cross_val_score(m4_lasso, X4, Y_egt, cv=10).mean()"
   ]
  },
  {
   "cell_type": "markdown",
   "metadata": {},
   "source": [
    "### SONUÇ"
   ]
  },
  {
   "cell_type": "code",
   "execution_count": 91,
   "metadata": {},
   "outputs": [
    {
     "data": {
      "text/html": [
       "<div>\n",
       "<style scoped>\n",
       "    .dataframe tbody tr th:only-of-type {\n",
       "        vertical-align: middle;\n",
       "    }\n",
       "\n",
       "    .dataframe tbody tr th {\n",
       "        vertical-align: top;\n",
       "    }\n",
       "\n",
       "    .dataframe thead th {\n",
       "        text-align: right;\n",
       "    }\n",
       "</style>\n",
       "<table border=\"1\" class=\"dataframe\">\n",
       "  <thead>\n",
       "    <tr style=\"text-align: right;\">\n",
       "      <th></th>\n",
       "      <th>OLS</th>\n",
       "      <th>Ridge</th>\n",
       "      <th>Lasso</th>\n",
       "    </tr>\n",
       "  </thead>\n",
       "  <tbody>\n",
       "    <tr>\n",
       "      <th>Model_1</th>\n",
       "      <td>0.614736</td>\n",
       "      <td>-0.00759024</td>\n",
       "      <td>-0.00759024</td>\n",
       "    </tr>\n",
       "    <tr>\n",
       "      <th>Model_2</th>\n",
       "      <td>0.739919</td>\n",
       "      <td>-0.00759024</td>\n",
       "      <td>-0.00759024</td>\n",
       "    </tr>\n",
       "    <tr>\n",
       "      <th>Model_3</th>\n",
       "      <td>0.757051</td>\n",
       "      <td>-0.00759024</td>\n",
       "      <td>-0.00759024</td>\n",
       "    </tr>\n",
       "    <tr>\n",
       "      <th>Model_4</th>\n",
       "      <td>0.742068</td>\n",
       "      <td>-0.00759024</td>\n",
       "      <td>-0.00759024</td>\n",
       "    </tr>\n",
       "  </tbody>\n",
       "</table>\n",
       "</div>"
      ],
      "text/plain": [
       "              OLS       Ridge       Lasso\n",
       "Model_1  0.614736 -0.00759024 -0.00759024\n",
       "Model_2  0.739919 -0.00759024 -0.00759024\n",
       "Model_3  0.757051 -0.00759024 -0.00759024\n",
       "Model_4  0.742068 -0.00759024 -0.00759024"
      ]
     },
     "execution_count": 91,
     "metadata": {},
     "output_type": "execute_result"
    }
   ],
   "source": [
    "sonuc"
   ]
  },
  {
   "cell_type": "markdown",
   "metadata": {},
   "source": [
    "### DEĞERLENDİRME:"
   ]
  }
 ],
 "metadata": {
  "kernelspec": {
   "display_name": "Python 3",
   "language": "python",
   "name": "python3"
  },
  "language_info": {
   "codemirror_mode": {
    "name": "ipython",
    "version": 3
   },
   "file_extension": ".py",
   "mimetype": "text/x-python",
   "name": "python",
   "nbconvert_exporter": "python",
   "pygments_lexer": "ipython3",
   "version": "3.7.1"
  }
 },
 "nbformat": 4,
 "nbformat_minor": 2
}
