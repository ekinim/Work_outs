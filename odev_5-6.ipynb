{
 "cells": [
  {
   "cell_type": "raw",
   "metadata": {},
   "source": [
    "SELECT COUNT(*) AS Miktar,\n",
    "\n",
    "CASE\n",
    "\tWHEN Miktar>20 THEN 'Büyük'\n",
    "    WHEN Miktar>10 THEN 'Orta'\n",
    "    ELSE 'Küçük'\n",
    "END AS Buyukluk\n",
    "\n",
    "FROM (\n",
    "\tSELECT \n",
    "        country AS Ulke,\n",
    "\t\tCOUNT(*) AS Miktar\n",
    "    \n",
    "\tFROM customers\n",
    "\n",
    "\tGROUP BY country\n",
    "\n",
    "\tORDER BY Miktar DESC\n",
    ") alt_tablo\n",
    "\n",
    "GROUP BY Buyukluk"
   ]
  },
  {
   "cell_type": "raw",
   "metadata": {},
   "source": [
    "Miktar    Buyukluk\n",
    "\n",
    "  1       Büyük\n",
    " 24       Küçük\n",
    "  2       Orta"
   ]
  }
 ],
 "metadata": {
  "kernelspec": {
   "display_name": "Python 3",
   "language": "python",
   "name": "python3"
  },
  "language_info": {
   "codemirror_mode": {
    "name": "ipython",
    "version": 3
   },
   "file_extension": ".py",
   "mimetype": "text/x-python",
   "name": "python",
   "nbconvert_exporter": "python",
   "pygments_lexer": "ipython3",
   "version": "3.7.1"
  }
 },
 "nbformat": 4,
 "nbformat_minor": 2
}
