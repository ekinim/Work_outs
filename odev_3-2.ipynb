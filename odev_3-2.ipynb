{
 "cells": [
  {
   "cell_type": "code",
   "execution_count": 15,
   "metadata": {},
   "outputs": [
    {
     "name": "stdout",
     "output_type": "stream",
     "text": [
      "                  A     B     C\n",
      "Üretim Oranı  0.400  0.40  0.40\n",
      "Hata Oranı    0.015  0.02  0.01\n",
      "\n",
      "Rastgele seçilen bozuk bir bilgisayarın \n",
      "B şirketi tarafından üretilmiş olma ihtimali % 0.80 'dir.\n"
     ]
    }
   ],
   "source": [
    "import numpy as np\n",
    "import pandas as pd\n",
    "\n",
    "oranlar=[[0.4, 0.4, 0.4], [0.015, 0.020, 0.010]]\n",
    "bilg=pd.DataFrame(oranlar)\n",
    "bilg.index=[\"Üretim Oranı\", \"Hata Oranı\"]\n",
    "bilg.columns=[\"A\", \"B\", \"C\"]\n",
    "\n",
    "print(bilg)\n",
    "print(\"\"\"\\nRastgele seçilen bozuk bir bilgisayarın \n",
    "B şirketi tarafından üretilmiş olma ihtimali % {:.2f} 'dir.\"\"\"\n",
    "      .format(bilg[\"B\"][\"Üretim Oranı\"] * bilg[\"B\"][\"Hata Oranı\"] * 100))"
   ]
  }
 ],
 "metadata": {
  "kernelspec": {
   "display_name": "Python 3",
   "language": "python",
   "name": "python3"
  },
  "language_info": {
   "codemirror_mode": {
    "name": "ipython",
    "version": 3
   },
   "file_extension": ".py",
   "mimetype": "text/x-python",
   "name": "python",
   "nbconvert_exporter": "python",
   "pygments_lexer": "ipython3",
   "version": "3.7.1"
  }
 },
 "nbformat": 4,
 "nbformat_minor": 2
}
