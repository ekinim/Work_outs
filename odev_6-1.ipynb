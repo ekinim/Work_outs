{
 "cells": [
  {
   "cell_type": "markdown",
   "metadata": {},
   "source": [
    "1İNCİ SORU:"
   ]
  },
  {
   "cell_type": "markdown",
   "metadata": {},
   "source": [
    "Kişi başına düşen milli geliri tahmin etme işi, bir regresyon görevidir. Çünkü, muhtemel değerleri sonsuza ıraksamaktadır. Sınıflandırma görevleri, sonlu sayıda değer içeren görevler için uygundur."
   ]
  },
  {
   "cell_type": "markdown",
   "metadata": {},
   "source": [
    "2NCİ SORU:"
   ]
  },
  {
   "cell_type": "markdown",
   "metadata": {},
   "source": [
    "a. Doğru.\n",
    "\n",
    "b. Doğrusal regresyon gereklilikleri karşılanamadığı durumlarda da doğrusal regresyon alınabilecek bazı yaklaşımlar vardır. Doğrusal olmayan bir çok ilişki, logaritmik ifadelerle doğrusal olarak alınabilmektedir.\n",
    "\n",
    "c. Estimation, bir değişkenin bir sonraki değerini bulmakla ilgilidir. Prediction, bir değişkenin başka bir değişkene olan etkisini bulmakla ilgilidir.\n",
    "\n",
    "Prediction yaparkenki hata payı (güven aralıkları), estimation yaparkenkinden daha fazladır.\n",
    "\n",
    "ç. Support Vector Machines ve Random Forests, regresyon modelleri değil makine öğrenmesi algoritmalarıdır."
   ]
  },
  {
   "cell_type": "markdown",
   "metadata": {},
   "source": [
    "3ÜNCÜ SORU:"
   ]
  },
  {
   "cell_type": "markdown",
   "metadata": {},
   "source": [
    "Bir e-ticaret sitesinin müşterilerine sağladığı ücretsiz faydalar aşağıdadır. \n",
    ">- y --> Sunulan ücretsiz hizmetlerin ücretli hizmetlere olan etkisi\n",
    "- x --> İlk alışverişten sonra 1 aylık ücretsiz Netflix üyeliği\n",
    "- z --> Yapılan alışverişlerde küçük sürprizler (bonbon, küçük süs eşyası vb.)\n",
    "- p --> Elektronik ürünlerde 1 yıl ekstra garanti\n",
    "- r --> 100 TL ve katlarına 5 TL'lik alışveriş çeki\n",
    "\n",
    "Bu durumda, regresyon formülü şu şekilde olur:\n",
    ">$y = α + βx + θz + γp + λr$"
   ]
  }
 ],
 "metadata": {
  "kernelspec": {
   "display_name": "Python 3",
   "language": "python",
   "name": "python3"
  },
  "language_info": {
   "codemirror_mode": {
    "name": "ipython",
    "version": 3
   },
   "file_extension": ".py",
   "mimetype": "text/x-python",
   "name": "python",
   "nbconvert_exporter": "python",
   "pygments_lexer": "ipython3",
   "version": "3.7.1"
  }
 },
 "nbformat": 4,
 "nbformat_minor": 2
}
