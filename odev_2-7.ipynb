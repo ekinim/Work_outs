{
 "cells": [
  {
   "cell_type": "code",
   "execution_count": 1,
   "metadata": {},
   "outputs": [],
   "source": [
    "import pandas as pd"
   ]
  },
  {
   "cell_type": "code",
   "execution_count": 2,
   "metadata": {},
   "outputs": [
    {
     "data": {
      "text/html": [
       "<div>\n",
       "<style scoped>\n",
       "    .dataframe tbody tr th:only-of-type {\n",
       "        vertical-align: middle;\n",
       "    }\n",
       "\n",
       "    .dataframe tbody tr th {\n",
       "        vertical-align: top;\n",
       "    }\n",
       "\n",
       "    .dataframe thead th {\n",
       "        text-align: right;\n",
       "    }\n",
       "</style>\n",
       "<table border=\"1\" class=\"dataframe\">\n",
       "  <thead>\n",
       "    <tr style=\"text-align: right;\">\n",
       "      <th></th>\n",
       "      <th>asallar</th>\n",
       "      <th>fibonacci</th>\n",
       "    </tr>\n",
       "  </thead>\n",
       "  <tbody>\n",
       "    <tr>\n",
       "      <th>a</th>\n",
       "      <td>1</td>\n",
       "      <td>1</td>\n",
       "    </tr>\n",
       "    <tr>\n",
       "      <th>b</th>\n",
       "      <td>2</td>\n",
       "      <td>1</td>\n",
       "    </tr>\n",
       "    <tr>\n",
       "      <th>c</th>\n",
       "      <td>3</td>\n",
       "      <td>2</td>\n",
       "    </tr>\n",
       "    <tr>\n",
       "      <th>ç</th>\n",
       "      <td>5</td>\n",
       "      <td>3</td>\n",
       "    </tr>\n",
       "    <tr>\n",
       "      <th>d</th>\n",
       "      <td>7</td>\n",
       "      <td>5</td>\n",
       "    </tr>\n",
       "    <tr>\n",
       "      <th>e</th>\n",
       "      <td>11</td>\n",
       "      <td>8</td>\n",
       "    </tr>\n",
       "    <tr>\n",
       "      <th>f</th>\n",
       "      <td>13</td>\n",
       "      <td>13</td>\n",
       "    </tr>\n",
       "    <tr>\n",
       "      <th>g</th>\n",
       "      <td>17</td>\n",
       "      <td>21</td>\n",
       "    </tr>\n",
       "    <tr>\n",
       "      <th>ğ</th>\n",
       "      <td>19</td>\n",
       "      <td>34</td>\n",
       "    </tr>\n",
       "    <tr>\n",
       "      <th>h</th>\n",
       "      <td>23</td>\n",
       "      <td>55</td>\n",
       "    </tr>\n",
       "  </tbody>\n",
       "</table>\n",
       "</div>"
      ],
      "text/plain": [
       "   asallar  fibonacci\n",
       "a        1          1\n",
       "b        2          1\n",
       "c        3          2\n",
       "ç        5          3\n",
       "d        7          5\n",
       "e       11          8\n",
       "f       13         13\n",
       "g       17         21\n",
       "ğ       19         34\n",
       "h       23         55"
      ]
     },
     "execution_count": 2,
     "metadata": {},
     "output_type": "execute_result"
    }
   ],
   "source": [
    "def asal(sayi):\n",
    "    dizi=[]\n",
    "    x=1\n",
    "    while len(dizi)<sayi:\n",
    "        sayac=0\n",
    "        if x<3:\n",
    "            dizi.append(x)\n",
    "        else:\n",
    "            for y in range(2,x-1):\n",
    "                if (x%y)==0:\n",
    "                    sayac+=1\n",
    "            if sayac==0:\n",
    "                dizi.append(x)\n",
    "        x+=1\n",
    "    return dizi\n",
    "\n",
    "\n",
    "def fibo(sayi):\n",
    "    fibo=[]\n",
    "    x=0\n",
    "    while len(fibo)<sayi:\n",
    "        if x<2:\n",
    "            fibo.append(1)\n",
    "        else:\n",
    "            fibo.append(fibo[x-2]+fibo[x-1])\n",
    "        x+=1\n",
    "    return fibo\n",
    "\n",
    "\n",
    "sayilar=[\"a\", \"b\", \"c\", \"ç\", \"d\", \"e\", \"f\", \"g\", \"ğ\", \"h\"]  \n",
    "sayilar=pd.DataFrame(index=sayilar)\n",
    "sayilar[\"asallar\"]=asal(len(sayilar))\n",
    "sayilar[\"fibonacci\"]=fibo(len(sayilar))\n",
    "sayilar"
   ]
  },
  {
   "cell_type": "code",
   "execution_count": 3,
   "metadata": {},
   "outputs": [
    {
     "data": {
      "text/plain": [
       "Sex\n",
       "female    27.915709\n",
       "male      30.726645\n",
       "Name: Age, dtype: float64"
      ]
     },
     "execution_count": 3,
     "metadata": {},
     "output_type": "execute_result"
    }
   ],
   "source": [
    "dosya=pd.read_csv(\"C:/Users/Gunesim/Desktop/Çalışmalar/train.csv\", engine=\"python\")\n",
    "\n",
    "dosya_ort=dosya[dosya[\"Age\"]>=0]\n",
    "dosya_ort.groupby(by=\"Sex\").mean()[\"Age\"]"
   ]
  },
  {
   "cell_type": "code",
   "execution_count": 4,
   "metadata": {},
   "outputs": [
    {
     "name": "stdout",
     "output_type": "stream",
     "text": [
      "30 yaşından küçük yolcuların kurtulma oranı: % 40.62 'tür.\n",
      "\n",
      "Erkeklerin kurtulma oranı: % 18.89\n",
      "Kadınların kurtulma oranı: % 74.20 'tür.\n"
     ]
    }
   ],
   "source": [
    "kucuk=len(dosya[(dosya[\"Age\"]>=0) & (dosya[\"Age\"]<30)])\n",
    "kucuk_kurtul=len(dosya[(dosya[\"Age\"]>=0) & (dosya[\"Age\"]<30) & (dosya[\"Survived\"]==1)])\n",
    "\n",
    "erkek=len(dosya[dosya[\"Sex\"]==\"male\"])\n",
    "erkek_kurtul=len(dosya[(dosya[\"Sex\"]==\"male\") & (dosya[\"Survived\"]==1)])\n",
    "\n",
    "kadin=len(dosya[dosya[\"Sex\"]==\"female\"])\n",
    "kadin_kurtul=len(dosya[(dosya[\"Sex\"]==\"female\") & (dosya[\"Survived\"]==1)])\n",
    "\n",
    "print(\"30 yaşından küçük yolcuların kurtulma oranı: % {:.2f} 'tür.\".format((kucuk_kurtul/kucuk)*100))\n",
    "print(\"\\nErkeklerin kurtulma oranı: % {:.2f}\\nKadınların kurtulma oranı: % {:.2f} 'tür.\"\n",
    "      .format((erkek_kurtul/erkek)*100, (kadin_kurtul/kadin)*100))"
   ]
  }
 ],
 "metadata": {
  "kernelspec": {
   "display_name": "Python 3",
   "language": "python",
   "name": "python3"
  },
  "language_info": {
   "codemirror_mode": {
    "name": "ipython",
    "version": 3
   },
   "file_extension": ".py",
   "mimetype": "text/x-python",
   "name": "python",
   "nbconvert_exporter": "python",
   "pygments_lexer": "ipython3",
   "version": "3.7.1"
  }
 },
 "nbformat": 4,
 "nbformat_minor": 2
}
