{
 "cells": [
  {
   "cell_type": "code",
   "execution_count": 1,
   "metadata": {},
   "outputs": [],
   "source": [
    "import pandas as pd\n",
    "import matplotlib.pyplot as plt\n",
    "import seaborn as sns\n",
    "import numpy as np\n",
    "import scipy.stats as sts\n",
    "import statsmodels.api as sm\n",
    "import warnings\n",
    "\n",
    "from statsmodels.tools.eval_measures import mse, rmse\n",
    "from statsmodels.tsa.stattools import acf\n",
    "from sklearn.model_selection import train_test_split\n",
    "from sklearn.preprocessing import normalize, scale, StandardScaler\n",
    "from sklearn.decomposition import PCA\n",
    "from sklearn.linear_model import LinearRegression\n",
    "from scipy.stats.mstats import winsorize\n",
    "from sklearn.metrics import mean_absolute_error\n",
    "from scipy.stats import jarque_bera, normaltest, bartlett, levene\n",
    "from sqlalchemy import create_engine\n",
    "from sklearn import linear_model\n",
    "\n",
    "warnings.filterwarnings('ignore')"
   ]
  },
  {
   "cell_type": "markdown",
   "metadata": {},
   "source": [
    "Veri setimiz için test verisi hâlihazırda verilmiş olduğu için ayrıca test verisi ayırmamıza gerek yok."
   ]
  },
  {
   "cell_type": "markdown",
   "metadata": {},
   "source": [
    "EĞİTİM VERİSİ"
   ]
  },
  {
   "cell_type": "code",
   "execution_count": 2,
   "metadata": {},
   "outputs": [],
   "source": [
    "knt=pd.read_csv(\".\\\\konut_train.csv\")\n",
    "\n",
    "kategorik=[i for i in knt.columns if knt[i].dtype==\"object\"]\n",
    "surekli=[i for i in knt.columns if (knt[i].dtype==\"int64\" or knt[i].dtype==\"float64\")]\n",
    "\n",
    "konut=knt\n",
    "for i in kategorik:\n",
    "    konut[i]=knt[i].fillna(\"Null\")\n",
    "for i in surekli:\n",
    "    konut[i]=knt[i].fillna(0)"
   ]
  },
  {
   "cell_type": "markdown",
   "metadata": {},
   "source": [
    "TEST VERİSİ"
   ]
  },
  {
   "cell_type": "code",
   "execution_count": 15,
   "metadata": {},
   "outputs": [],
   "source": [
    "knt_test=pd.read_csv(\".\\\\konut_test.csv\")\n",
    "\n",
    "kategorik_test=[i for i in knt_test.columns if knt_test[i].dtype==\"object\"]\n",
    "surekli_test=[i for i in knt_test.columns if (knt_test[i].dtype==\"int64\" or knt_test[i].dtype==\"float64\")]\n",
    "\n",
    "konut_test=knt_test\n",
    "for i in kategorik_test:\n",
    "    konut_test[i]=knt_test[i].fillna(\"Null\")\n",
    "for i in surekli_test:\n",
    "    konut_test[i]=knt_test[i].fillna(0)"
   ]
  },
  {
   "cell_type": "code",
   "execution_count": 18,
   "metadata": {},
   "outputs": [],
   "source": [
    "konut_fiyat=pd.read_csv(\".\\\\konut_price.csv\")"
   ]
  },
  {
   "cell_type": "code",
   "execution_count": 21,
   "metadata": {},
   "outputs": [],
   "source": [
    "konut_test[\"SalePrice\"]=[i for i in konut_fiyat[konut_test[\"Id\"]==konut_fiyat[\"Id\"]][\"SalePrice\"]]"
   ]
  },
  {
   "cell_type": "code",
   "execution_count": 26,
   "metadata": {},
   "outputs": [],
   "source": [
    "Y_test=konut_test[\"SalePrice\"]"
   ]
  },
  {
   "cell_type": "markdown",
   "metadata": {},
   "source": [
    "### 1inci Model:"
   ]
  },
  {
   "cell_type": "markdown",
   "metadata": {},
   "source": [
    "- Eğitim"
   ]
  },
  {
   "cell_type": "code",
   "execution_count": 9,
   "metadata": {
    "scrolled": false
   },
   "outputs": [],
   "source": [
    "Y_egt=konut[\"SalePrice\"]\n",
    "X1=konut[[\"YearBuilt\", \"TotalBsmtSF\", \"TotRmsAbvGrd\", \"LotFrontage\"]]\n",
    "\n",
    "X1=sm.add_constant(X1)\n",
    "sonuc1=sm.OLS(Y_egt, X1).fit()"
   ]
  },
  {
   "cell_type": "markdown",
   "metadata": {},
   "source": [
    "- Kontrol"
   ]
  },
  {
   "cell_type": "code",
   "execution_count": 25,
   "metadata": {},
   "outputs": [],
   "source": [
    "X1_test=konut_test[[\"YearBuilt\", \"TotalBsmtSF\", \"TotRmsAbvGrd\", \"LotFrontage\"]]\n",
    "\n",
    "X1_test=sm.add_constant(X1_test)\n",
    "sonuc1_tahmin=sonuc1.predict(X1_test)"
   ]
  },
  {
   "cell_type": "markdown",
   "metadata": {},
   "source": [
    "### 2nci Model:"
   ]
  },
  {
   "cell_type": "markdown",
   "metadata": {},
   "source": [
    "- Eğitim"
   ]
  },
  {
   "cell_type": "code",
   "execution_count": 28,
   "metadata": {
    "scrolled": false
   },
   "outputs": [],
   "source": [
    "Y_egt=konut[\"SalePrice\"]\n",
    "X2=konut[[\"OverallQual\", \"TotalBsmtSF\", \"1stFlrSF\", \"GrLivArea\"]]\n",
    "\n",
    "X2=sm.add_constant(X2)\n",
    "sonuc2=sm.OLS(Y_egt, X2).fit()"
   ]
  },
  {
   "cell_type": "markdown",
   "metadata": {},
   "source": [
    "- Kontrol"
   ]
  },
  {
   "cell_type": "code",
   "execution_count": 31,
   "metadata": {},
   "outputs": [],
   "source": [
    "X2_test=konut_test[[\"OverallQual\", \"TotalBsmtSF\", \"1stFlrSF\", \"GrLivArea\"]]\n",
    "\n",
    "X2_test=sm.add_constant(X2_test)\n",
    "sonuc2_tahmin=sonuc2.predict(X2_test)"
   ]
  },
  {
   "cell_type": "markdown",
   "metadata": {},
   "source": [
    "### 3üncü Model:"
   ]
  },
  {
   "cell_type": "markdown",
   "metadata": {},
   "source": [
    "- Eğitim"
   ]
  },
  {
   "cell_type": "code",
   "execution_count": 11,
   "metadata": {
    "scrolled": false
   },
   "outputs": [],
   "source": [
    "Y_egt=konut[\"SalePrice\"]\n",
    "X3=konut[[\"OverallQual\", \"GarageCars\", \"YearBuilt\", \"GrLivArea\", \"FullBath\", \"Fireplaces\"]]\n",
    "\n",
    "X3=sm.add_constant(X3)\n",
    "sonuc3=sm.OLS(Y_egt, X3).fit()"
   ]
  },
  {
   "cell_type": "markdown",
   "metadata": {},
   "source": [
    "- Kontrol"
   ]
  },
  {
   "cell_type": "code",
   "execution_count": 35,
   "metadata": {},
   "outputs": [],
   "source": [
    "X3_test=konut_test[[\"OverallQual\", \"GarageCars\", \"YearBuilt\", \"GrLivArea\", \"FullBath\", \"Fireplaces\"]]\n",
    "\n",
    "X3_test=sm.add_constant(X3_test)\n",
    "sonuc3_tahmin=sonuc3.predict(X3_test)"
   ]
  },
  {
   "cell_type": "markdown",
   "metadata": {},
   "source": [
    "### 4üncü Model:"
   ]
  },
  {
   "cell_type": "markdown",
   "metadata": {},
   "source": [
    "- Eğitim"
   ]
  },
  {
   "cell_type": "code",
   "execution_count": 12,
   "metadata": {
    "scrolled": false
   },
   "outputs": [],
   "source": [
    "konut[\"LivingArea\"]=konut[\"GrLivArea\"] * konut[\"MasVnrArea\"]\n",
    "\n",
    "Y_egt=konut[\"SalePrice\"]\n",
    "X4=konut[[\"OverallQual\", \"TotalBsmtSF\", \"1stFlrSF\", \"GrLivArea\", \"LivingArea\"]]\n",
    "\n",
    "X4=sm.add_constant(X4)\n",
    "sonuc4=sm.OLS(Y_egt, X4).fit()"
   ]
  },
  {
   "cell_type": "markdown",
   "metadata": {},
   "source": [
    "- Kontrol"
   ]
  },
  {
   "cell_type": "code",
   "execution_count": 37,
   "metadata": {},
   "outputs": [],
   "source": [
    "konut_test[\"LivingArea\"]=konut[\"GrLivArea\"] * konut[\"MasVnrArea\"]\n",
    "\n",
    "X4_test=konut_test[[\"OverallQual\", \"TotalBsmtSF\", \"1stFlrSF\", \"GrLivArea\", \"LivingArea\"]]\n",
    "\n",
    "X4_test=sm.add_constant(X4_test)\n",
    "sonuc4_tahmin=sonuc4.predict(X4_test)"
   ]
  },
  {
   "cell_type": "markdown",
   "metadata": {},
   "source": [
    "### SONUÇ"
   ]
  },
  {
   "cell_type": "code",
   "execution_count": 81,
   "metadata": {
    "scrolled": false
   },
   "outputs": [
    {
     "data": {
      "image/png": "[encoded data removed]",
      "text/plain": [
       "<Figure size 720x504 with 4 Axes>"
      ]
     },
     "metadata": {
      "needs_background": "light"
     },
     "output_type": "display_data"
    },
    {
     "name": "stdout",
     "output_type": "stream",
     "text": [
      "------- 1inci MODEL -------\n",
      "Ortalama Mutlak Hata (MAE)        : 46229.633356855615\n",
      "Ortalama Kare Hata (MSE)          : 3289968419.888642\n",
      "Kök Ortalama Kare Hata (RMSE)     : 57358.24631113334\n",
      "Ortalama Mutlak Yüzde Hata (MAPE) : 25.95917250442386\n",
      "\n",
      "\n",
      "------- 2nci MODEL --------\n",
      "Ortalama Mutlak Hata (MAE)        : 51407.19132836199\n",
      "Ortalama Kare Hata (MSE)          : 4231348726.975519\n",
      "Kök Ortalama Kare Hata (RMSE)     : 65048.81802904276\n",
      "Ortalama Mutlak Yüzde Hata (MAPE) : 28.951557741458835\n",
      "\n",
      "\n",
      "------- 3üncü MODEL -------\n",
      "Ortalama Mutlak Hata (MAE)        : 54657.99343979457\n",
      "Ortalama Kare Hata (MSE)          : 4386228500.749752\n",
      "Kök Ortalama Kare Hata (RMSE)     : 66228.60787265388\n",
      "Ortalama Mutlak Yüzde Hata (MAPE) : 30.703018805121356\n",
      "\n",
      "\n",
      "------- 4üncü MODEL -------\n",
      "Ortalama Mutlak Hata (MAE)        : 48900.54058549387\n",
      "Ortalama Kare Hata (MSE)          : 3806194932.6603866\n",
      "Kök Ortalama Kare Hata (RMSE)     : 61694.36710640921\n",
      "Ortalama Mutlak Yüzde Hata (MAPE) : 27.544237164806855\n"
     ]
    }
   ],
   "source": [
    "baslik_font = {'family': 'arial','color':  'darkred','weight': 'bold','size': 15 }\n",
    "eksen_font = {'family': 'arial','color':  'darkblue','weight': 'bold','size': 10 }\n",
    "\n",
    "plt.figure(figsize=(10,7))\n",
    "\n",
    "plt.subplot(2,2,1)\n",
    "plt.scatter(Y_test, sonuc1_tahmin)\n",
    "plt.plot(Y_test, Y_test, color=\"red\")\n",
    "plt.xlabel(\"Gerçek Değerler\", fontdict=eksen_font)\n",
    "plt.ylabel(\"Tahmin edilen Değerler\", fontdict=eksen_font)\n",
    "plt.title(\"Gerçek ve tahmin edilen değerler (Model 1)\", fontdict=baslik_font)\n",
    "\n",
    "plt.subplot(2,2,2)\n",
    "plt.scatter(Y_test, sonuc2_tahmin)\n",
    "plt.plot(Y_test, Y_test, color=\"red\")\n",
    "plt.xlabel(\"Gerçek Değerler\", fontdict=eksen_font)\n",
    "plt.ylabel(\"Tahmin edilen Değerler\", fontdict=eksen_font)\n",
    "plt.title(\"Gerçek ve tahmin edilen değerler (Model 2)\", fontdict=baslik_font)\n",
    "\n",
    "plt.subplot(2,2,3)\n",
    "plt.scatter(Y_test, sonuc3_tahmin)\n",
    "plt.plot(Y_test, Y_test, color=\"red\")\n",
    "plt.xlabel(\"Gerçek Değerler\", fontdict=eksen_font)\n",
    "plt.ylabel(\"Tahmin edilen Değerler\", fontdict=eksen_font)\n",
    "plt.title(\"Gerçek ve tahmin edilen değerler (Model 3)\", fontdict=baslik_font)\n",
    "\n",
    "plt.subplot(2,2,4)\n",
    "plt.scatter(Y_test, sonuc4_tahmin)\n",
    "plt.plot(Y_test, Y_test, color=\"red\")\n",
    "plt.xlabel(\"Gerçek Değerler\", fontdict=eksen_font)\n",
    "plt.ylabel(\"Tahmin edilen Değerler\", fontdict=eksen_font)\n",
    "plt.title(\"Gerçek ve tahmin edilen değerler (Model 4)\", fontdict=baslik_font)\n",
    "\n",
    "plt.tight_layout()\n",
    "plt.show()\n",
    "\n",
    "print(\"------- 1inci MODEL -------\")\n",
    "print(\"Ortalama Mutlak Hata (MAE)        : {}\".format(mean_absolute_error(Y_test, sonuc1_tahmin)))\n",
    "print(\"Ortalama Kare Hata (MSE)          : {}\".format(mse(Y_test, sonuc1_tahmin)))\n",
    "print(\"Kök Ortalama Kare Hata (RMSE)     : {}\".format(rmse(Y_test, sonuc1_tahmin)))\n",
    "print(\"Ortalama Mutlak Yüzde Hata (MAPE) : {}\".format(np.mean(np.abs((Y_test - sonuc1_tahmin) / Y_test)) * 100))\n",
    "print(\"\\n\")\n",
    "\n",
    "print(\"------- 2nci MODEL --------\")\n",
    "print(\"Ortalama Mutlak Hata (MAE)        : {}\".format(mean_absolute_error(Y_test, sonuc2_tahmin)))\n",
    "print(\"Ortalama Kare Hata (MSE)          : {}\".format(mse(Y_test, sonuc2_tahmin)))\n",
    "print(\"Kök Ortalama Kare Hata (RMSE)     : {}\".format(rmse(Y_test, sonuc2_tahmin)))\n",
    "print(\"Ortalama Mutlak Yüzde Hata (MAPE) : {}\".format(np.mean(np.abs((Y_test - sonuc2_tahmin) / Y_test)) * 100))\n",
    "print(\"\\n\")\n",
    "\n",
    "print(\"------- 3üncü MODEL -------\")\n",
    "print(\"Ortalama Mutlak Hata (MAE)        : {}\".format(mean_absolute_error(Y_test, sonuc3_tahmin)))\n",
    "print(\"Ortalama Kare Hata (MSE)          : {}\".format(mse(Y_test, sonuc3_tahmin)))\n",
    "print(\"Kök Ortalama Kare Hata (RMSE)     : {}\".format(rmse(Y_test, sonuc3_tahmin)))\n",
    "print(\"Ortalama Mutlak Yüzde Hata (MAPE) : {}\".format(np.mean(np.abs((Y_test - sonuc3_tahmin) / Y_test)) * 100))\n",
    "print(\"\\n\")\n",
    "\n",
    "print(\"------- 4üncü MODEL -------\")\n",
    "print(\"Ortalama Mutlak Hata (MAE)        : {}\".format(mean_absolute_error(Y_test, sonuc4_tahmin)))\n",
    "print(\"Ortalama Kare Hata (MSE)          : {}\".format(mse(Y_test, sonuc4_tahmin)))\n",
    "print(\"Kök Ortalama Kare Hata (RMSE)     : {}\".format(rmse(Y_test, sonuc4_tahmin)))\n",
    "print(\"Ortalama Mutlak Yüzde Hata (MAPE) : {}\".format(np.mean(np.abs((Y_test - sonuc4_tahmin) / Y_test)) * 100))"
   ]
  },
  {
   "cell_type": "markdown",
   "metadata": {},
   "source": [
    "### DEĞERLENDİRME:"
   ]
  },
  {
   "cell_type": "markdown",
   "metadata": {},
   "source": [
    "Dağılım açısından, grafiklerin birbirinden belirgin bir farkı yoktur. Ancak, verileri açısından incelendiğinde, tüm testlerde en düşük değeri alan\n",
    "\n",
    "1İNCİ MODELİMİZ EN İYİ MODELDİR."
   ]
  }
 ],
 "metadata": {
  "kernelspec": {
   "display_name": "Python 3",
   "language": "python",
   "name": "python3"
  },
  "language_info": {
   "codemirror_mode": {
    "name": "ipython",
    "version": 3
   },
   "file_extension": ".py",
   "mimetype": "text/x-python",
   "name": "python",
   "nbconvert_exporter": "python",
   "pygments_lexer": "ipython3",
   "version": "3.7.1"
  }
 },
 "nbformat": 4,
 "nbformat_minor": 2
}
