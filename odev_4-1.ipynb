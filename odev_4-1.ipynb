{
 "cells": [
  {
   "cell_type": "raw",
   "metadata": {},
   "source": [
    "KEŞİFSEL VERİ ANALİZİNİN AMACI;\n",
    "\n",
    "1. Adım: Veri setindeki hatalı ve tutarsız verileri bulup temizlemedir. Bazı durumlarda verideki uç değerleri çıkarmayı da gerektirebilir.\n",
    "\n",
    "2. Adım: Veriler arasındaki bağlantıları ve özellikleri keşfidir. Göreselleştirme tekniklerinden istifade edilir.\n",
    "\n",
    "3. Adım: Özellikler arasından en kullanışlı olanların seçildiği, dönüştürüldüğü ve yeni özelliklerin türetildiği aşamadır."
   ]
  },
  {
   "cell_type": "raw",
   "metadata": {},
   "source": [
    "A. HAM VERİDE KARŞILAŞILABİLECEK PROBLEMLER\n",
    "\n",
    "    1. Yazılan yorumlar anlaşılmaz, yüklemsiz ve mantiki sıralamadan eksik olabilir. Birbiri ardına kullanılan cümlelerde bir konudan diğerine atlanmış olabilir.\n",
    "    \n",
    "    2. Yorumlarda yazılanlarla derecelendirme, birbiriyle uyumsuz olabilir.\n",
    "    \n",
    "    3. Yorumların ürüne yönelik yapılması gerekirken şirkete veya siteye yönelik yapılmış olabilir.\n",
    "    \n",
    "    4. Kargo şirketi ile yaşanabilecek muhtemel bir problemde, olumsuzluk ürüne veya şirkete yansıtılmış olabilir.\n",
    "    \n",
    "B. OLUMLU / OLUMSUZ ÖZELLİKLERİ BELİRLEME\n",
    "\n",
    "    1. Yorumlarda sıkça kullanılan kelimeleri arar ve bunları işaretlenmiş olan derecelendirmeyle karşılaştırarak tasniflerim.\n",
    "    \n",
    "    2. Yorumların kelime uzunluklarıyla derecelendirmelerini karşılaştırıp olumlu, nötr ve olumsuz değerlendirmeler için ortalama bir değer elde etmeye çalışırım.\n",
    "    \n",
    "    3. Derecelendirme, sık kullnaılan kelimeler ve yorum uzunluklarını ilgili ürünle karşılaştırıp her bir ürün için memnuniyet derecesini elde ederim.\n",
    "    \n",
    "    4. Ürünlerin zaman içerisindeki satış değişimlerini yazılmış ve işaretlenmiş değerlendirmelerle kıyaslarım.\n",
    "    \n",
    "    5. Ürünlerin zaman içerisindeki satış değişimleri ile kargolandığı şirketleri karşılaştırıp iş yapılan kargo şirketleri ile ilgili bir bağlantı bulmaya çalışırım.\n",
    "    \n",
    "    * Bu işlemleri yaparken, QQ diyagramları ve histogramlar kullanışlı olabilir.\n",
    "    \n",
    "C. HAM VERİDEN ÇIKARILABİLECEK YARARLI ÖZELLİKLER\n",
    "\n",
    "    I. Yukarıda B maddesinde sıralanan özellikler kullanışlı olabilir. Bunlara ilaveten;\n",
    "    \n",
    "        1. Günün hangi saatlerinde yoğun olarak alışveriş yapıldığı ve hangi ürünlerin tercih edildiği,\n",
    "    \n",
    "        2. Genelde tercih edilen ödeme yöntemleri (kredi kartı / banka kartı, kapıda ödeme, tercih edilen taksit miktarı vb.)\n",
    "    \n",
    "        3. Her bir alışverişin yapıldığı saatlerdeki hava durumu, (Her ne kadar internet üzerinden alışveriş yapılsa da, hava şartlarının insan üzerindeki psikolojik etkisi öğrenilebilir.)\n",
    "    \n",
    "        4. Hangi hava şarlarında hangi ürünlerin tercih edildiği,\n",
    "    \n",
    "        5. Alışverişin genelde hangi cihaz (dizüstü bilgisayar, cep telefonu vb.) üzerinden yapıldığı,\n",
    "    \n",
    "        6. Alışveriş durumunun (parasal hacim, ürün miktarı ve satış sayısı) alışveriş yapılan illerin nüfusuna oranı,\n",
    "    \n",
    "        7. İllere ve ilçelere göre tercih edilen ürünler,\n",
    "    \n",
    "        8. Dönemsel olarak yükselen (stres çarkı, UGG bot vb.) trendlerde benzer / ikâme ürünlerin satış değişimleri,\n",
    "    \n",
    "    II. Çıkarılabilecek özellikler için verilerin çoğu, hâlihazırda veritabanımızda zaten kayıtlı olan veriler. Kayıtlı olmayanlar hava durumu verileri, illerin nüfus yoğunlukları ve dönemsel olarak yükselen trendlerle ilgili veriler.\n",
    "    \n",
    "    Bunlardan hava durumu verileri Meteoroloji Genel Müdürlüğü'nden veya Accuweather.com sitesinden elde edilebilir. Nüfus yoğunlukları TÜİK verilerinden alınabilir. En zor elde edilebilecek olan trend verileri için arama motorlarında araştırma yapmak gereklidir."
   ]
  }
 ],
 "metadata": {
  "kernelspec": {
   "display_name": "Python 3",
   "language": "python",
   "name": "python3"
  },
  "language_info": {
   "codemirror_mode": {
    "name": "ipython",
    "version": 3
   },
   "file_extension": ".py",
   "mimetype": "text/x-python",
   "name": "python",
   "nbconvert_exporter": "python",
   "pygments_lexer": "ipython3",
   "version": "3.7.1"
  }
 },
 "nbformat": 4,
 "nbformat_minor": 2
}
