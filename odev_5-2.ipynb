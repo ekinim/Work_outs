{
 "cells": [
  {
   "cell_type": "markdown",
   "metadata": {},
   "source": [
    "1İNCİ SORU:"
   ]
  },
  {
   "cell_type": "markdown",
   "metadata": {},
   "source": [
    "Veritabanları, tekrarları önleyerek hızlı ve etkili bir sorgulamaya imkan verecek şekilde verileri ilişkisel olarak hafızada tutan yapılardır.\n",
    "\n",
    "SQL, belirlediğimiz kriterlere göre veritabanından sonuç döndüren sorgu programlarıdır."
   ]
  },
  {
   "cell_type": "markdown",
   "metadata": {},
   "source": [
    "2NCİ SORU:"
   ]
  },
  {
   "cell_type": "markdown",
   "metadata": {},
   "source": [
    "a. Raw Table: Şimdiye kadarki kullandığımız veri setlerinin kaydedilme biçimidir. Kaynağında ilişkisel olarak kaydedilmiş olsa bile, veri bize büyük ihtimalle bu halde sunulacaktır. Her bir satırı, bir gözlemi içerir. Her sütun, gözlemin bir özelliğini gösterir.\n",
    "\n",
    "b. Processed Table: Veri setimizi programa yükledikten sonraki veri temizliği yapılmış, işlemeye hazırlanmış haline benzer.\n",
    "\n",
    "c. Roll-up Table: Veri setimizi işledikten sonra gereksiz özelliklerin çıkartılıp gerekli olanların bırakıldığı duruma benzer."
   ]
  }
 ],
 "metadata": {
  "kernelspec": {
   "display_name": "Python 3",
   "language": "python",
   "name": "python3"
  },
  "language_info": {
   "codemirror_mode": {
    "name": "ipython",
    "version": 3
   },
   "file_extension": ".py",
   "mimetype": "text/x-python",
   "name": "python",
   "nbconvert_exporter": "python",
   "pygments_lexer": "ipython3",
   "version": "3.7.1"
  }
 },
 "nbformat": 4,
 "nbformat_minor": 2
}
