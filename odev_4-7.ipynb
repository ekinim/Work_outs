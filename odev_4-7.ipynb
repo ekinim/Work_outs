{
 "cells": [
  {
   "cell_type": "code",
   "execution_count": 1,
   "metadata": {},
   "outputs": [],
   "source": [
    "import matplotlib.pyplot as plt\n",
    "import seaborn as sns\n",
    "import numpy as np\n",
    "import pandas as pd\n",
    "import scipy.stats as sts\n",
    "import warnings\n",
    "\n",
    "from scipy.stats.mstats import winsorize\n",
    "from scipy.stats import jarque_bera\n",
    "from scipy.stats import normaltest\n",
    "from sqlalchemy import create_engine\n",
    "from sklearn.preprocessing import normalize\n",
    "from sklearn.preprocessing import scale\n",
    "\n",
    "warnings.filterwarnings('ignore')\n",
    "sns.set(style=\"whitegrid\")\n",
    "baslik_font = {'family': 'arial', 'color': 'darkred','weight': 'bold','size': 13 }\n",
    "eksen_font  = {'family': 'arial', 'color': 'darkblue','weight': 'bold','size': 10 }"
   ]
  },
  {
   "cell_type": "code",
   "execution_count": 104,
   "metadata": {
    "scrolled": false
   },
   "outputs": [],
   "source": [
    "ogr = pd.read_csv(\"C:\\\\Users\\\\Gunesim\\\\Desktop\\\\Ödevler\\\\StudentsPerformance.csv\", engine=\"python\", encoding=\"utf8\")\n",
    "ogr.columns=[\"cinsiyet\", \"etnik_koken\", \"aile_egt_seviyesi\", \"ogle_yemegi\", \n",
    "                 \"hazirlik_kursu\", \"matematik_puani\", \"okuma_puani\", \"yazma_puani\"]"
   ]
  },
  {
   "cell_type": "markdown",
   "metadata": {},
   "source": [
    "1NCİ SORU:"
   ]
  },
  {
   "cell_type": "code",
   "execution_count": 27,
   "metadata": {},
   "outputs": [
    {
     "data": {
      "image/png": "[encoded data removed]",
      "text/plain": [
       "<Figure size 1296x216 with 3 Axes>"
      ]
     },
     "metadata": {
      "needs_background": "light"
     },
     "output_type": "display_data"
    }
   ],
   "source": [
    "plt.figure(figsize=(18,3))\n",
    "\n",
    "plt.subplot(1,3,1)\n",
    "plt.hist(ogr[\"matematik_puani\"], bins=20)\n",
    "plt.title(\"Matematik Puanı\")\n",
    "\n",
    "plt.subplot(1,3,2)\n",
    "plt.hist(ogr[\"okuma_puani\"], bins=20)\n",
    "plt.title(\"Okuma Puanı\")\n",
    "\n",
    "plt.subplot(1,3,3)\n",
    "plt.hist(ogr[\"yazma_puani\"], bins=20)\n",
    "plt.title(\"Yazma Puanı\")\n",
    "\n",
    "plt.show()"
   ]
  },
  {
   "cell_type": "code",
   "execution_count": 105,
   "metadata": {},
   "outputs": [
    {
     "data": {
      "text/html": [
       "<div>\n",
       "<style scoped>\n",
       "    .dataframe tbody tr th:only-of-type {\n",
       "        vertical-align: middle;\n",
       "    }\n",
       "\n",
       "    .dataframe tbody tr th {\n",
       "        vertical-align: top;\n",
       "    }\n",
       "\n",
       "    .dataframe thead th {\n",
       "        text-align: right;\n",
       "    }\n",
       "</style>\n",
       "<table border=\"1\" class=\"dataframe\">\n",
       "  <thead>\n",
       "    <tr style=\"text-align: right;\">\n",
       "      <th></th>\n",
       "      <th>ozellik</th>\n",
       "      <th>jb_istatistik</th>\n",
       "      <th>jb_p_degeri</th>\n",
       "      <th>normal_istatistik</th>\n",
       "      <th>normal_p_degeri</th>\n",
       "    </tr>\n",
       "  </thead>\n",
       "  <tbody>\n",
       "    <tr>\n",
       "      <th>0</th>\n",
       "      <td>matematik_puani</td>\n",
       "      <td>7353491.52550</td>\n",
       "      <td>0.00000</td>\n",
       "      <td>2107.22995</td>\n",
       "      <td>0.00000</td>\n",
       "    </tr>\n",
       "    <tr>\n",
       "      <th>1</th>\n",
       "      <td>okuma_puani</td>\n",
       "      <td>495.12732</td>\n",
       "      <td>0.00000</td>\n",
       "      <td>209.77151</td>\n",
       "      <td>0.00000</td>\n",
       "    </tr>\n",
       "    <tr>\n",
       "      <th>2</th>\n",
       "      <td>yazma_puani</td>\n",
       "      <td>1410.93701</td>\n",
       "      <td>0.00000</td>\n",
       "      <td>318.96921</td>\n",
       "      <td>0.00000</td>\n",
       "    </tr>\n",
       "  </tbody>\n",
       "</table>\n",
       "</div>"
      ],
      "text/plain": [
       "           ozellik  jb_istatistik  jb_p_degeri  normal_istatistik  \\\n",
       "0  matematik_puani  7353491.52550      0.00000         2107.22995   \n",
       "1      okuma_puani      495.12732      0.00000          209.77151   \n",
       "2      yazma_puani     1410.93701      0.00000          318.96921   \n",
       "\n",
       "   normal_p_degeri  \n",
       "0          0.00000  \n",
       "1          0.00000  \n",
       "2          0.00000  "
      ]
     },
     "execution_count": 105,
     "metadata": {},
     "output_type": "execute_result"
    }
   ],
   "source": [
    "pd.options.display.float_format=\"{:.5f}\".format\n",
    "\n",
    "ozellikler=[\"matematik_puani\", \"okuma_puani\", \"yazma_puani\"]\n",
    "\n",
    "testler=pd.DataFrame(columns=[\"ozellik\", \"jb_istatistik\", \"jb_p_degeri\", \"normal_istatistik\", \"normal_p_degeri\"])\n",
    "\n",
    "#59ncu satırda sıfır değeri bulunması sebebiyle, logaritma alabilmek için değerlere 0.001 ilave ediyoruz..\n",
    "ogr[\"matematik_puani\"]+=0.001\n",
    "\n",
    "for i in ozellikler:\n",
    "    jb=jarque_bera(np.log(ogr[i]))\n",
    "    norm=normaltest(np.log(ogr[i]))\n",
    "    \n",
    "    testler=testler.append({\"ozellik\":i,\n",
    "                            \"jb_istatistik\":jb[0],\n",
    "                            \"jb_p_degeri\":jb[1],\n",
    "                            \"normal_istatistik\":norm[0],\n",
    "                            \"normal_p_degeri\":norm[1]},\n",
    "                            ignore_index=True)\n",
    "\n",
    "testler"
   ]
  },
  {
   "cell_type": "markdown",
   "metadata": {},
   "source": [
    "p değerleri 0 (sıfır) olduğu için sınav notlarının dağılımı normal dağılıma uymamaktadır. \"scale\" ve \"normalize\" yaparak normal dağılıma getirip Jarque-Bera yöntemi ile test edelim."
   ]
  },
  {
   "cell_type": "code",
   "execution_count": 102,
   "metadata": {},
   "outputs": [
    {
     "data": {
      "text/html": [
       "<div>\n",
       "<style scoped>\n",
       "    .dataframe tbody tr th:only-of-type {\n",
       "        vertical-align: middle;\n",
       "    }\n",
       "\n",
       "    .dataframe tbody tr th {\n",
       "        vertical-align: top;\n",
       "    }\n",
       "\n",
       "    .dataframe thead th {\n",
       "        text-align: right;\n",
       "    }\n",
       "</style>\n",
       "<table border=\"1\" class=\"dataframe\">\n",
       "  <thead>\n",
       "    <tr style=\"text-align: right;\">\n",
       "      <th></th>\n",
       "      <th>ozellik</th>\n",
       "      <th>jb_istatistik</th>\n",
       "      <th>jb_p_degeri</th>\n",
       "      <th>normal_istatistik</th>\n",
       "      <th>normal_p_degeri</th>\n",
       "    </tr>\n",
       "  </thead>\n",
       "  <tbody>\n",
       "    <tr>\n",
       "      <th>0</th>\n",
       "      <td>matematik_puani</td>\n",
       "      <td>6089270.61243</td>\n",
       "      <td>0.00000</td>\n",
       "      <td>2044.56654</td>\n",
       "      <td>0.00000</td>\n",
       "    </tr>\n",
       "    <tr>\n",
       "      <th>1</th>\n",
       "      <td>okuma_puani</td>\n",
       "      <td>495.12732</td>\n",
       "      <td>0.00000</td>\n",
       "      <td>209.77151</td>\n",
       "      <td>0.00000</td>\n",
       "    </tr>\n",
       "    <tr>\n",
       "      <th>2</th>\n",
       "      <td>yazma_puani</td>\n",
       "      <td>1410.93701</td>\n",
       "      <td>0.00000</td>\n",
       "      <td>318.96921</td>\n",
       "      <td>0.00000</td>\n",
       "    </tr>\n",
       "  </tbody>\n",
       "</table>\n",
       "</div>"
      ],
      "text/plain": [
       "           ozellik  jb_istatistik  jb_p_degeri  normal_istatistik  \\\n",
       "0  matematik_puani  6089270.61243      0.00000         2044.56654   \n",
       "1      okuma_puani      495.12732      0.00000          209.77151   \n",
       "2      yazma_puani     1410.93701      0.00000          318.96921   \n",
       "\n",
       "   normal_p_degeri  \n",
       "0          0.00000  \n",
       "1          0.00000  \n",
       "2          0.00000  "
      ]
     },
     "execution_count": 102,
     "metadata": {},
     "output_type": "execute_result"
    }
   ],
   "source": [
    "norm_testler=pd.DataFrame(columns=[\"ozellik\", \"jb_istatistik\", \"jb_p_degeri\", \"normal_istatistik\", \"normal_p_degeri\"])\n",
    "\n",
    "for i in ozellikler:\n",
    "    sc=jarque_bera(scale(ogr[i]))\n",
    "    norm=normaltest(normalize(np.array(ogr[i]).reshape(1,-1)).reshape(-1,1))\n",
    "    \n",
    "    norm_testler=norm_testler.append({\n",
    "                            \"ozellik\":i,\n",
    "                            \"jb_istatistik\":sc[0],\n",
    "                            \"jb_p_degeri\":sc[1],\n",
    "                            \"normal_istatistik\":norm[0],\n",
    "                            \"normal_p_degeri\":norm[1]},\n",
    "                            ignore_index=True)\n",
    "\n",
    "testler"
   ]
  },
  {
   "cell_type": "markdown",
   "metadata": {},
   "source": [
    "Bu soruda; logaritma almadan yapınca p değerleri sıfırdan büyük çıkıyor. Alındığında da hem normalleştirme öncesi hem sonrasında sıfır çıkıyor.\n",
    "???"
   ]
  },
  {
   "cell_type": "markdown",
   "metadata": {},
   "source": [
    "2NCİ SORU:"
   ]
  },
  {
   "cell_type": "code",
   "execution_count": 111,
   "metadata": {},
   "outputs": [],
   "source": [
    "ogr[\"sinav_ortalamasi\"]=(ogr[\"matematik_puani\"]+ogr[\"okuma_puani\"]+ogr[\"yazma_puani\"])/3"
   ]
  },
  {
   "cell_type": "code",
   "execution_count": 100,
   "metadata": {},
   "outputs": [
    {
     "data": {
      "image/png": "[encoded data removed]",
      "text/plain": [
       "<Figure size 432x288 with 1 Axes>"
      ]
     },
     "metadata": {
      "needs_background": "light"
     },
     "output_type": "display_data"
    },
    {
     "name": "stdout",
     "output_type": "stream",
     "text": [
      "Sınav Ortalaması\n",
      "------------------------------------------\n",
      "JB İstatistik     : 2166.798800538761 \n",
      "JB p degeri       : 0.0\n",
      "Normal İstatistik : 361.8232766203273 \n",
      "Normal p degeri   : 2.698197712853854e-79\n"
     ]
    }
   ],
   "source": [
    "plt.hist(ogr[\"sinav_ortalamasi\"], bins=20)\n",
    "plt.show()\n",
    "\n",
    "jarq=jarque_bera(np.log(ogr[\"sinav_ortalamasi\"]))\n",
    "nrm=normaltest(np.log(ogr[\"sinav_ortalamasi\"]))\n",
    "\n",
    "print(\"Sınav Ortalaması\\n------------------------------------------\")\n",
    "print(\"JB İstatistik     :\", jarq[0],\"\\nJB p degeri       :\", jarq[1])\n",
    "print(\"Normal İstatistik :\", nrm[0],\"\\nNormal p degeri   :\", nrm[1])"
   ]
  },
  {
   "cell_type": "markdown",
   "metadata": {},
   "source": [
    "p değeri; birinde 0 çıkıyor, diğerinde sıfırdan büyük çıkıyor. Hangisi alınacak???"
   ]
  },
  {
   "cell_type": "markdown",
   "metadata": {},
   "source": [
    "3NCÜ SORU:"
   ]
  },
  {
   "cell_type": "code",
   "execution_count": 112,
   "metadata": {},
   "outputs": [
    {
     "data": {
      "text/html": [
       "<div>\n",
       "<style scoped>\n",
       "    .dataframe tbody tr th:only-of-type {\n",
       "        vertical-align: middle;\n",
       "    }\n",
       "\n",
       "    .dataframe tbody tr th {\n",
       "        vertical-align: top;\n",
       "    }\n",
       "\n",
       "    .dataframe thead th {\n",
       "        text-align: right;\n",
       "    }\n",
       "</style>\n",
       "<table border=\"1\" class=\"dataframe\">\n",
       "  <thead>\n",
       "    <tr style=\"text-align: right;\">\n",
       "      <th></th>\n",
       "      <th>cinsiyet</th>\n",
       "      <th>etnik_koken</th>\n",
       "      <th>aile_egt_seviyesi</th>\n",
       "      <th>ogle_yemegi</th>\n",
       "      <th>hazirlik_kursu</th>\n",
       "      <th>matematik_puani</th>\n",
       "      <th>okuma_puani</th>\n",
       "      <th>yazma_puani</th>\n",
       "      <th>sinav_ortalamasi</th>\n",
       "    </tr>\n",
       "  </thead>\n",
       "  <tbody>\n",
       "    <tr>\n",
       "      <th>0</th>\n",
       "      <td>female</td>\n",
       "      <td>group B</td>\n",
       "      <td>bachelor's degree</td>\n",
       "      <td>standard</td>\n",
       "      <td>none</td>\n",
       "      <td>72.00100</td>\n",
       "      <td>72</td>\n",
       "      <td>74</td>\n",
       "      <td>72.66700</td>\n",
       "    </tr>\n",
       "    <tr>\n",
       "      <th>1</th>\n",
       "      <td>female</td>\n",
       "      <td>group C</td>\n",
       "      <td>some college</td>\n",
       "      <td>standard</td>\n",
       "      <td>completed</td>\n",
       "      <td>69.00100</td>\n",
       "      <td>90</td>\n",
       "      <td>88</td>\n",
       "      <td>82.33367</td>\n",
       "    </tr>\n",
       "    <tr>\n",
       "      <th>2</th>\n",
       "      <td>female</td>\n",
       "      <td>group B</td>\n",
       "      <td>master's degree</td>\n",
       "      <td>standard</td>\n",
       "      <td>none</td>\n",
       "      <td>90.00100</td>\n",
       "      <td>95</td>\n",
       "      <td>93</td>\n",
       "      <td>92.66700</td>\n",
       "    </tr>\n",
       "    <tr>\n",
       "      <th>3</th>\n",
       "      <td>male</td>\n",
       "      <td>group A</td>\n",
       "      <td>associate's degree</td>\n",
       "      <td>free/reduced</td>\n",
       "      <td>none</td>\n",
       "      <td>47.00100</td>\n",
       "      <td>57</td>\n",
       "      <td>44</td>\n",
       "      <td>49.33367</td>\n",
       "    </tr>\n",
       "    <tr>\n",
       "      <th>4</th>\n",
       "      <td>male</td>\n",
       "      <td>group C</td>\n",
       "      <td>some college</td>\n",
       "      <td>standard</td>\n",
       "      <td>none</td>\n",
       "      <td>76.00100</td>\n",
       "      <td>78</td>\n",
       "      <td>75</td>\n",
       "      <td>76.33367</td>\n",
       "    </tr>\n",
       "  </tbody>\n",
       "</table>\n",
       "</div>"
      ],
      "text/plain": [
       "  cinsiyet etnik_koken   aile_egt_seviyesi   ogle_yemegi hazirlik_kursu  \\\n",
       "0   female     group B   bachelor's degree      standard           none   \n",
       "1   female     group C        some college      standard      completed   \n",
       "2   female     group B     master's degree      standard           none   \n",
       "3     male     group A  associate's degree  free/reduced           none   \n",
       "4     male     group C        some college      standard           none   \n",
       "\n",
       "   matematik_puani  okuma_puani  yazma_puani  sinav_ortalamasi  \n",
       "0         72.00100           72           74          72.66700  \n",
       "1         69.00100           90           88          82.33367  \n",
       "2         90.00100           95           93          92.66700  \n",
       "3         47.00100           57           44          49.33367  \n",
       "4         76.00100           78           75          76.33367  "
      ]
     },
     "execution_count": 112,
     "metadata": {},
     "output_type": "execute_result"
    }
   ],
   "source": [
    "ogr.head()"
   ]
  },
  {
   "cell_type": "code",
   "execution_count": 115,
   "metadata": {},
   "outputs": [
    {
     "data": {
      "text/plain": [
       "<matplotlib.axes._subplots.AxesSubplot at 0x8c685b0>"
      ]
     },
     "execution_count": 115,
     "metadata": {},
     "output_type": "execute_result"
    },
    {
     "data": {
      "image/png": "[encoded data removed]",
      "text/plain": [
       "<Figure size 1296x576 with 5 Axes>"
      ]
     },
     "metadata": {
      "needs_background": "light"
     },
     "output_type": "display_data"
    }
   ],
   "source": [
    "plt.figure(figsize=(18,8))\n",
    "\n",
    "plt.subplot(2,3,1)\n",
    "sns.barplot(ogr[\"cinsiyet\"], ogr[\"sinav_ortalamasi\"])\n",
    "plt.subplot(2,3,2)\n",
    "sns.barplot(ogr[\"etnik_koken\"], ogr[\"sinav_ortalamasi\"])\n",
    "plt.subplot(2,3,3)\n",
    "sns.barplot(ogr[\"aile_egt_seviyesi\"], ogr[\"sinav_ortalamasi\"])\n",
    "plt.subplot(2,3,4)\n",
    "sns.barplot(ogr[\"ogle_yemegi\"], ogr[\"sinav_ortalamasi\"])\n",
    "plt.subplot(2,3,5)\n",
    "sns.barplot(ogr[\"hazirlik_kursu\"], ogr[\"sinav_ortalamasi\"])"
   ]
  },
  {
   "cell_type": "code",
   "execution_count": 119,
   "metadata": {},
   "outputs": [
    {
     "data": {
      "text/plain": [
       "'CİNSİYET'"
      ]
     },
     "metadata": {},
     "output_type": "display_data"
    },
    {
     "data": {
      "text/plain": [
       "Ttest_indResult(statistic=4.169913529142, pvalue=3.311973638243664e-05)"
      ]
     },
     "metadata": {},
     "output_type": "display_data"
    },
    {
     "data": {
      "text/plain": [
       "'YEMEK'"
      ]
     },
     "metadata": {},
     "output_type": "display_data"
    },
    {
     "data": {
      "text/plain": [
       "Ttest_indResult(statistic=9.575113051511469, pvalue=7.736791812495828e-21)"
      ]
     },
     "metadata": {},
     "output_type": "display_data"
    },
    {
     "data": {
      "text/plain": [
       "'HAZIRLIK KURSU'"
      ]
     },
     "metadata": {},
     "output_type": "display_data"
    },
    {
     "data": {
      "text/plain": [
       "Ttest_indResult(statistic=-8.390944443482592, pvalue=1.633780203592351e-16)"
      ]
     },
     "metadata": {},
     "output_type": "display_data"
    }
   ],
   "source": [
    "ttest_cinsiyet=sts.ttest_ind(ogr[ogr[\"cinsiyet\"]==\"female\"][\"sinav_ortalamasi\"], \n",
    "                             ogr[ogr[\"cinsiyet\"]==\"male\"][\"sinav_ortalamasi\"])\n",
    "ttest_yemek=sts.ttest_ind(ogr[ogr[\"ogle_yemegi\"]==\"standard\"][\"sinav_ortalamasi\"], \n",
    "                             ogr[ogr[\"ogle_yemegi\"]==\"free/reduced\"][\"sinav_ortalamasi\"])\n",
    "ttest_kurs=sts.ttest_ind(ogr[ogr[\"hazirlik_kursu\"]==\"none\"][\"sinav_ortalamasi\"], \n",
    "                             ogr[ogr[\"hazirlik_kursu\"]==\"completed\"][\"sinav_ortalamasi\"])\n",
    "\n",
    "display(\"CİNSİYET\", ttest_cinsiyet)\n",
    "display(\"YEMEK\", ttest_yemek)\n",
    "display(\"HAZIRLIK KURSU\", ttest_kurs)"
   ]
  },
  {
   "cell_type": "markdown",
   "metadata": {},
   "source": [
    "Etnik köken ve aile eğitim durumu da aynı şekilde t testine tabi tutulup p değeri 0'dan büyük olduğunda analize dahil edilir. Testini yaptığımız 3 değişken de sinav ortalaması ile ilişkilidir. Üçü de analize dahil edilir."
   ]
  }
 ],
 "metadata": {
  "kernelspec": {
   "display_name": "Python 3",
   "language": "python",
   "name": "python3"
  },
  "language_info": {
   "codemirror_mode": {
    "name": "ipython",
    "version": 3
   },
   "file_extension": ".py",
   "mimetype": "text/x-python",
   "name": "python",
   "nbconvert_exporter": "python",
   "pygments_lexer": "ipython3",
   "version": "3.7.1"
  }
 },
 "nbformat": 4,
 "nbformat_minor": 2
}
